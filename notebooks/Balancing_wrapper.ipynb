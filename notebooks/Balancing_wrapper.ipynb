{
 "cells": [
  {
   "cell_type": "code",
   "execution_count": 1,
   "id": "f4319b29-77a2-40d3-9a4a-632c68085b69",
   "metadata": {},
   "outputs": [],
   "source": [
    "import torch\n",
    "import numpy as np\n",
    "import matplotlib.pyplot as plt\n",
    "%matplotlib inline\n",
    "from torch import nn\n",
    "from torch.utils.data import TensorDataset, DataLoader\n",
    "from tqdm import tqdm\n",
    "# static balancing methods\n",
    "from OptimalTransportBalancing import OptimalTransportBalancing as OTB"
   ]
  },
  {
   "cell_type": "code",
   "execution_count": 2,
   "id": "212dc59f-5f14-4c71-97ad-99c0c7e57b17",
   "metadata": {},
   "outputs": [],
   "source": [
    "# use GPU when possible\n",
    "if torch.cuda.is_available():  \n",
    "    dev = \"cuda:0\" \n",
    "else:  \n",
    "    dev = \"cpu\"  \n",
    "dev = torch.device(dev)"
   ]
  },
  {
   "cell_type": "code",
   "execution_count": 3,
   "id": "a8cb469b-0a5b-4bb6-95e1-0c67b2b15411",
   "metadata": {},
   "outputs": [],
   "source": [
    "n = 1000\n",
    "m = 1000\n",
    "xi = torch.normal(mean = -1, std = 2, size = (n,1))\n",
    "xi_ring = torch.zeros(size = (m,1))\n",
    "for i in range(m):\n",
    "    if torch.rand(1).item()>0.3:\n",
    "        xi_ring[i,0] = torch.normal(mean = -4, std = 2, size = (1,)).item()\n",
    "    else:\n",
    "        xi_ring[i,0] = torch.normal(mean = 3, std = 0.2, size = (1,)).item()\n",
    "w = torch.ones(n)\n",
    "w_ring = torch.ones(m)\n"
   ]
  },
  {
   "cell_type": "code",
   "execution_count": 4,
   "id": "1b3fcbcd-dd49-4959-87c6-78e38d8cc9e8",
   "metadata": {},
   "outputs": [],
   "source": [
    "def viz(weights, xi = xi.detach().numpy(),xi_ring = xi_ring.detach().numpy()):\n",
    "    plt.figure(figsize = (12,8))\n",
    "    plt.hist(xi_ring[:,0], alpha = 0.5, bins = 30, label =\"target\", density = True)\n",
    "    plt.hist(xi[:,0], alpha = 0.5, bins = 30, label =\"source\", density = True)\n",
    "    if weights is not None:\n",
    "        plt.hist(xi[:,0], weights = weights, alpha = 0.5, bins = 30, label =\"re-weighted source\", density = True)\n",
    "    plt.legend()"
   ]
  },
  {
   "cell_type": "code",
   "execution_count": 5,
   "id": "43887f7d-2c98-4f55-96c7-f19a9af9956f",
   "metadata": {},
   "outputs": [
    {
     "data": {
      "image/png": "[encoded data removed]",
      "text/plain": [
       "<Figure size 864x576 with 1 Axes>"
      ]
     },
     "metadata": {
      "needs_background": "light"
     },
     "output_type": "display_data"
    }
   ],
   "source": [
    "viz(None)"
   ]
  },
  {
   "cell_type": "code",
   "execution_count": 6,
   "id": "9bc4f314-230b-41bf-950d-cfa05e312b7b",
   "metadata": {},
   "outputs": [],
   "source": [
    "class OptimalTransportBalancing():\n",
    "    def __init__(self, metric = None):\n",
    "        \"\"\"\n",
    "        Attributes\n",
    "        ----------\n",
    "        metric: function (x,y)\n",
    "            Compute distance between two elements x and y, that are both assumed to be tensors.\n",
    "        \"\"\"\n",
    "        if metric != None:\n",
    "            self.metric = metric\n",
    "        else:\n",
    "            self.metric = lambda x,y : torch.linalg.norm(x-y)\n",
    "    def get_nearest_neighbor_index (self, x,Y):\n",
    "        n = Y.shape[0]\n",
    "        distance_list = torch.zeros(n)\n",
    "        for i in range(n):\n",
    "            distance_list[i] = self.metric(x, Y[i])\n",
    "        return torch.argmin(distance_list).item() \n",
    "    def get_weights(self, source, target, source_weights = None, target_weights = None):\n",
    "        n = len(source)\n",
    "        m = len(target)\n",
    "        if source_weights is not None:\n",
    "            w = source_weights.reshape((n,))\n",
    "        else:\n",
    "            w = torch.ones(n)\n",
    "        if target_weights is not None:\n",
    "            w_ring = target_weights.reshape((m,))\n",
    "        else:\n",
    "            w_ring = torch.ones(m)\n",
    "        sum_nn_w_ring = torch.zeros(n)\n",
    "        nearest_neighbor_index = torch.zeros(m, dtype = int)\n",
    "        for j in range(m):\n",
    "            nearest_neighbor_index[j] = self.get_nearest_neighbor_index(target[j], source)\n",
    "        for i in range(n):\n",
    "            for j in range(m):\n",
    "                if int(nearest_neighbor_index[j].item()) == i:\n",
    "                    sum_nn_w_ring[i] += w_ring[j]\n",
    "        eta_ring = w * sum_nn_w_ring\n",
    "        return eta_ring *n/m"
   ]
  },
  {
   "cell_type": "markdown",
   "id": "7043551c-acbb-4a8d-a7ad-ab4a88e388ae",
   "metadata": {},
   "source": [
    "## Optimal Tranport Balancing wrapper"
   ]
  },
  {
   "cell_type": "code",
   "execution_count": 7,
   "id": "fdb2aa70-cb41-43db-9cb8-a223a7e4daaa",
   "metadata": {},
   "outputs": [],
   "source": [
    "OTB = OptimalTransportBalancing()"
   ]
  },
  {
   "cell_type": "code",
   "execution_count": 8,
   "id": "5aeffab7-bb6a-4f0e-ba2e-e058b02be3f8",
   "metadata": {},
   "outputs": [],
   "source": [
    "weights_OT = OTB.get_weights(xi,xi_ring,w,w_ring)\n",
    "weights = weights_OT.detach().numpy()"
   ]
  },
  {
   "cell_type": "code",
   "execution_count": 9,
   "id": "60d4d9d2-6932-4a22-8536-8f170570e37c",
   "metadata": {},
   "outputs": [
    {
     "data": {
      "text/plain": [
       "1.0"
      ]
     },
     "execution_count": 9,
     "metadata": {},
     "output_type": "execute_result"
    }
   ],
   "source": [
    "weights.mean()"
   ]
  },
  {
   "cell_type": "code",
   "execution_count": 10,
   "id": "5afc8671-a191-46a4-9f04-bcd71e952eb2",
   "metadata": {},
   "outputs": [],
   "source": [
    "# learning_rate = 1e-2\n",
    "# g = torch.rand(n, requires_grad = True, device = dev)\n",
    "# \n",
    "# optimizer = torch.optim.Adam([g], lr=learning_rate, betas=(0.9, 0.999), eps=1e-08, weight_decay=0, amsgrad=True)\n",
    "# \n",
    "# def GD(g = g, learning_rate = 1e-3, lambda_l1 = 1., optimizer = optimizer):\n",
    "#     obj = (weights_OT.to(dev) - g).square().sum()/n\n",
    "#     for i in range(n):\n",
    "#         for j in range(1):\n",
    "#             obj += lambda_l1*torch.abs(g[i]-g[j])\n",
    "#     optimizer.zero_grad()\n",
    "#     obj.backward()\n",
    "#     optimizer.step()\n",
    "#     return obj\n",
    "#     \n",
    "# \n",
    "# \n",
    "# \n",
    "# \n",
    "# epochs = 5000\n",
    "# loss_trace = []\n",
    "# for i in tqdm(range(epochs)):\n",
    "#     loss_trace.append(GD(learning_rate = 1e-2,\n",
    "#                               lambda_l1 = 1,\n",
    "#                               ).item())\n",
    "# plt.plot(np.array(loss_trace))\n",
    "# viz(g.detach().numpy())"
   ]
  },
  {
   "cell_type": "code",
   "execution_count": null,
   "id": "2c95b07e-7019-4d75-b791-b0cf58b2b69f",
   "metadata": {},
   "outputs": [],
   "source": []
  },
  {
   "cell_type": "code",
   "execution_count": 11,
   "id": "7636eedb-7fbd-4b76-a3c4-db4ef93b29b5",
   "metadata": {},
   "outputs": [
    {
     "data": {
      "image/png": "[encoded data removed]",
      "text/plain": [
       "<Figure size 864x576 with 1 Axes>"
      ]
     },
     "metadata": {
      "needs_background": "light"
     },
     "output_type": "display_data"
    }
   ],
   "source": [
    "viz(weights)"
   ]
  },
  {
   "cell_type": "code",
   "execution_count": 12,
   "id": "bfff17d4-f63a-401f-9b3c-56f44c69bae7",
   "metadata": {},
   "outputs": [
    {
     "data": {
      "text/plain": [
       "<matplotlib.legend.Legend at 0x2a22b7b9040>"
      ]
     },
     "execution_count": 12,
     "metadata": {},
     "output_type": "execute_result"
    },
    {
     "data": {
      "image/png": "[encoded data removed]",
      "text/plain": [
       "<Figure size 864x576 with 1 Axes>"
      ]
     },
     "metadata": {
      "needs_background": "light"
     },
     "output_type": "display_data"
    }
   ],
   "source": [
    "\n",
    "plt.figure(figsize = (12,8))\n",
    "plt.plot(xi,weights, \"r.\", alpha = 0.5, label=\"source\")\n",
    "plt.legend()"
   ]
  },
  {
   "cell_type": "code",
   "execution_count": null,
   "id": "820e0221-835f-4e11-bd7a-453f5df9352c",
   "metadata": {},
   "outputs": [],
   "source": []
  },
  {
   "cell_type": "code",
   "execution_count": 13,
   "id": "9290b615-76ce-4d0b-85bf-afe54b9678dc",
   "metadata": {},
   "outputs": [
    {
     "name": "stdout",
     "output_type": "stream",
     "text": [
      "non-zero ratio: 0.308\n",
      "larger than 1e-2 ratio: 0.308\n"
     ]
    }
   ],
   "source": [
    "print(\"non-zero ratio: {}\".format(np.sum(weights != 0.)/n))\n",
    "print(\"larger than 1e-2 ratio: {}\".format(np.sum(weights > 1e-2)/n))"
   ]
  },
  {
   "cell_type": "markdown",
   "id": "259bb99b-a450-4dd1-bd5b-c4a3fae0c831",
   "metadata": {},
   "source": [
    "## MMD balancing wrapper\n"
   ]
  },
  {
   "cell_type": "code",
   "execution_count": 14,
   "id": "99c70ac6-fc83-437b-8885-720ad6431459",
   "metadata": {},
   "outputs": [],
   "source": [
    "# class MMDBalancing():\n",
    "#     def __init__(self, kernel = None, k_XX = None, k_XY = None, k_YY = None,):\n",
    "#         self.k = kernel\n",
    "#         self.k_XX = k_XX\n",
    "#         self.k_XY = k_XY\n",
    "#         self.k_YY = k_YY\n",
    "#         \n",
    "#     def GD(self, source, target,\n",
    "#            weights,\n",
    "#            source_weights = None,\n",
    "#            target_weights = None,\n",
    "#            learning_rate = 0.001,\n",
    "#            lambda_l2 = 0.,\n",
    "#            gamma = 0.1):\n",
    "#                 \n",
    "#         with torch.no_grad():\n",
    "#             n = len(source)\n",
    "#             m = len(target)\n",
    "#             # generate kernel matrix\n",
    "#             if self.k_XX == None:\n",
    "#                 self.k_XX = torch.zeros((n,n))\n",
    "#                 self.k_XY = torch.zeros((n,m))\n",
    "#                 self.k_YY = torch.zeros((m,m))\n",
    "#                 if self.k == None:\n",
    "#                     self.k = lambda x,y: torch.exp(-torch.linalg.norm(x-y)**2/(gamma*2.0))\n",
    "#                 print(\"Calculating kernel matrices...\")\n",
    "#                 for i in range(n):\n",
    "#                     for j in range(m):\n",
    "#                         self.k_XY[i,j] = self.k(source[i],target[j])\n",
    "#                 for i in range(n):\n",
    "#                     for j in range(n):\n",
    "#                         self.k_XX[i,j] = self.k(source[i],source[j])\n",
    "#                 for i in range(m):\n",
    "#                     for j in range(m):\n",
    "#                         self.k_YY[i,j] = self.k(target[i],target[j])\n",
    "#                 print(\"Kernel matrices constructed!\")\n",
    "#             if source_weights is not None:\n",
    "#                 w = source_weights/n\n",
    "#             else:\n",
    "#                 w = torch.ones(n)/n\n",
    "#             if target_weights is not None:\n",
    "#                 w_ring = target_weights/m\n",
    "#             else:\n",
    "#                 w_ring = torch.ones(m)/m\n",
    "#                 \n",
    "#         MMD = torch.matmul(torch.matmul((w*weights).T,self.k_XX),w*weights) + torch.matmul(torch.matmul(w_ring.T,self.k_YY),w_ring)\\\n",
    "#         - 2.0*torch.matmul(torch.matmul((w*weights).T,self.k_XY),w_ring)\n",
    "#         MMD_reg = MMD + lambda_l2*weights.square().mean()\n",
    "#         optimizer = torch.optim.Adam([weights], lr=learning_rate, betas=(0.9, 0.999), eps=1e-08, weight_decay=0, amsgrad=True)\n",
    "#         optimizer.zero_grad()\n",
    "#         MMD_reg.backward()\n",
    "#         optimizer.step() \n",
    "#         return MMD\n",
    "# \n",
    "# "
   ]
  },
  {
   "cell_type": "code",
   "execution_count": null,
   "id": "cce99078-646f-4433-8039-da3c6d9ffc64",
   "metadata": {},
   "outputs": [],
   "source": []
  },
  {
   "cell_type": "code",
   "execution_count": null,
   "id": "1c83b631-111c-40dd-ad7e-327d824d910d",
   "metadata": {},
   "outputs": [],
   "source": []
  },
  {
   "cell_type": "markdown",
   "id": "db06d9e5-8db2-4d46-9bdd-d4acce231de9",
   "metadata": {},
   "source": [
    "\n",
    "### Gaussian kernel (slow)"
   ]
  },
  {
   "cell_type": "code",
   "execution_count": 15,
   "id": "bd5c77b5-9498-478c-8522-23ad1b92c374",
   "metadata": {},
   "outputs": [],
   "source": [
    "# def k(x,y):\n",
    "#     return torch.exp(-torch.linalg.norm(x-y)**2/(0.1*2.0))\n",
    "# def getKM(xi,xi_ring,k = k):\n",
    "#     n = len(xi)\n",
    "#     m = len(xi_ring)\n",
    "#    \n",
    "#     k_XX = torch.zeros((n,n))\n",
    "#     k_XY = torch.zeros((n,m))\n",
    "#     k_YY = torch.zeros((m,m))\n",
    "#     print(\"Calculating kernel matrices...\")\n",
    "#     for i in range(n):\n",
    "#         for j in range(m):\n",
    "#             k_XY[i,j] = k(xi[i],xi_ring[j])\n",
    "#     for i in range(n):\n",
    "#         for j in range(n):\n",
    "#             k_XX[i,j] = k(xi[i],xi[j])\n",
    "#     for i in range(m):\n",
    "#         for j in range(m):\n",
    "#             k_YY[i,j] = k(xi_ring[i],xi_ring[j])\n",
    "#     return k_XX,k_XY,k_YY"
   ]
  },
  {
   "cell_type": "markdown",
   "id": "5a0dff63-787a-4fbd-b08d-2f3fe94dd61b",
   "metadata": {},
   "source": [
    "### Gaussian kernel with random Fourier features (fast)\n",
    "\n",
    "```D```: number of Fourier random features.\n",
    "\n",
    "```d```: dimension of the state space.\n",
    "\n",
    "The idea is to draw\n",
    "$$\n",
    "w_1,\\dots, w_D \\sim \\mathcal{N}(0,\\sigma^2I_d),\n",
    "$$\n",
    "and\n",
    "$$\n",
    "\\theta_1,\\dots, \\theta_D \\sim \\mathrm{Unif}([0,2\\pi]).\n",
    "$$\n",
    "The random feature map is defined by\n",
    "$$\n",
    "\\forall j \\in [D],\\quad\n",
    "\\phi_j(x) = \\cos(w_j\\cdot x + \\theta_j). \n",
    "$$"
   ]
  },
  {
   "cell_type": "code",
   "execution_count": 16,
   "id": "5ed9e8a3-a24c-4ba9-9b33-cabd8c6eb0f4",
   "metadata": {},
   "outputs": [],
   "source": [
    "#n,d = xi.shape\n",
    "#D = 1000\n",
    "#W = torch.normal(0,5,(D,d), device = dev)\n",
    "#theta = torch.rand(D, device  = dev)*2*torch.pi\n",
    "#def get_phi_matrix(xi,\n",
    "#                   D,\n",
    "#                   W = W,\n",
    "#                   theta = theta,\n",
    "#                   d = d,\n",
    "#                   dev = dev):\n",
    "#    n,d = xi.shape\n",
    "#    xi = xi.clone().to(dev)\n",
    "#    Phi = torch.zeros((n,D), device = dev)\n",
    "#    for j in range(D):\n",
    "#        Phi[:,j] = torch.cos(torch.matmul(W[j,:].T,xi.T) + theta[j])\n",
    "#    return Phi \n"
   ]
  },
  {
   "cell_type": "code",
   "execution_count": null,
   "id": "61179702-c64d-4947-abcb-f72b8035f5fc",
   "metadata": {},
   "outputs": [],
   "source": []
  },
  {
   "cell_type": "code",
   "execution_count": 113,
   "id": "fa201f6c-dca8-41ba-a2f1-9a04c258cb74",
   "metadata": {},
   "outputs": [],
   "source": [
    "class MMDBalancing():\n",
    "    def __init__(self,\n",
    "                 xi, xi_ring,\n",
    "                 w = None, w_ring = None,\n",
    "                 sigma = 1, D = 500,\n",
    "                 k = None, KXX = None, KXY = None, KYY = None,\n",
    "                 dev = \"cuda:0\"):\n",
    "        # init device\n",
    "        self.dev = dev\n",
    "        # init support of source and target measures\n",
    "        self.xi = xi.to(self.dev) \n",
    "        self.xi_ring = xi_ring.to(self.dev)\n",
    "        self.n,self.d = xi.shape\n",
    "        self.m = xi_ring.shape[0]\n",
    "        # init weights of source and target measures\n",
    "        if w is not None:\n",
    "            self.w = w.to(self.dev)\n",
    "        else:\n",
    "            self.w = torch.ones(n, device =self.dev)\n",
    "        if w_ring is not None:\n",
    "            self.w_ring = w_ring.to(self.dev)\n",
    "        else:\n",
    "            self.w_ring = torch.ones(m, device =self.dev)\n",
    "        # init kernel matrices, when not provided, Gaussian kernel with random Fourier features is implemented\n",
    "        if (KXX and KXY and KYY) is not None:\n",
    "            self.KXX,self.KXY,self.KYY = KXX,KXY,KYY\n",
    "        else:\n",
    "            W = torch.normal(0,sigma,(D,self.d), device = self.dev)\n",
    "            theta = torch.rand(D, device  = self.dev)*2*torch.pi\n",
    "            Phi_X = torch.zeros((self.n,D), device = self.dev)\n",
    "            Phi_Y = torch.zeros((self.m,D), device = self.dev)\n",
    "            for j in range(D):\n",
    "                Phi_X[:,j] = torch.cos(torch.matmul(W[j,:].T,self.xi.T) + theta[j])\n",
    "                Phi_Y[:,j] = torch.cos(torch.matmul(W[j,:].T,self.xi_ring.T) + theta[j])\n",
    "            \n",
    "            self.KXX = torch.matmul(Phi_X,Phi_X.T)\n",
    "            self.KYY = torch.matmul(Phi_Y,Phi_Y.T)\n",
    "            self.KXY = torch.matmul(Phi_X,Phi_Y.T)\n",
    "        \n",
    "        self.alpha = torch.rand(self.n,device = self.dev,requires_grad=True)\n",
    "            \n",
    "        \n",
    "        \n",
    "        \n",
    "        \n",
    "    def GD(self, \n",
    "           learning_rate = 0.001,\n",
    "           lambda_l2 = 1e-2,\n",
    "           lambda_RKHS = 1e2,\n",
    "           ):\n",
    "                \n",
    "        #self.weights = torch.matmul(self.KXX,self.alpha)\n",
    "        \n",
    "        self.weights = self.alpha\n",
    "        \n",
    "        MMD = torch.matmul(torch.matmul((self.w*self.weights).T,self.KXX),self.w*self.weights) + torch.matmul(torch.matmul(self.w_ring.T,self.KYY),self.w_ring)\\\n",
    "        - 2.0*torch.matmul(torch.matmul((self.w*self.weights).T,self.KXY),self.w_ring)\n",
    "        MMD_reg = MMD + lambda_l2*self.weights.square().mean() \n",
    "        #MMD_reg += lambda_RKHS*torch.matmul(self.weights.T,self.alpha)\n",
    "        optimizer = torch.optim.Adam([self.alpha], lr=learning_rate, betas=(0.9, 0.999), eps=1e-08, weight_decay=0, amsgrad=True)\n",
    "        #optimizer = torch.optim.SGD([self.alpha], lr=learning_rate)\n",
    "        optimizer.zero_grad()\n",
    "        MMD_reg.backward()\n",
    "        optimizer.step() \n",
    "        return MMD\n",
    "\n"
   ]
  },
  {
   "cell_type": "code",
   "execution_count": 114,
   "id": "b4bda1ca-5635-4a63-9783-9afd7ea32d44",
   "metadata": {},
   "outputs": [],
   "source": [
    "# Phi_X = torch.zeros((n,d*6),device = \"cuda:0\")\n",
    "# Phi_Y = torch.zeros((m,d*6),device = \"cuda:0\")\n",
    "# for i in range(n):\n",
    "#     for j in range(d):\n",
    "#         Phi_X[i,j+0] = 1 \n",
    "#         Phi_X[i,j+1] = xi[i,j] \n",
    "#         Phi_X[i,j+2] = xi[i,j]**2 \n",
    "#         Phi_X[i,j+3] = xi[i,j]**3 \n",
    "#         Phi_X[i,j+4] = xi[i,j]**4 \n",
    "#         Phi_X[i,j+5] = xi[i,j]**5 \n",
    "# \n",
    "# for i in range(m):\n",
    "#     for j in range(d):\n",
    "#         Phi_Y[i,j+0] = 1 \n",
    "#         Phi_Y[i,j+1] = xi_ring[i,j] \n",
    "#         Phi_Y[i,j+2] = xi_ring[i,j]**2 \n",
    "#         Phi_Y[i,j+3] = xi_ring[i,j]**3 \n",
    "#         Phi_Y[i,j+4] = xi_ring[i,j]**4 \n",
    "#         Phi_Y[i,j+5] = xi_ring[i,j]**5 \n",
    "        \n",
    "\n",
    "    "
   ]
  },
  {
   "cell_type": "code",
   "execution_count": 115,
   "id": "210b8363-32de-43bd-ab52-0c516c35efed",
   "metadata": {},
   "outputs": [],
   "source": [
    "#KXX,KXY,KYY = getKM(xi,xi_ring)\n",
    "MMDB = MMDBalancing(xi,xi_ring,\n",
    "                   sigma = 1e1,D = 5000)\n"
   ]
  },
  {
   "cell_type": "code",
   "execution_count": 116,
   "id": "963d4a54-79dd-4ddc-b41b-917f8cb6d925",
   "metadata": {},
   "outputs": [
    {
     "name": "stderr",
     "output_type": "stream",
     "text": [
      "100%|█████████████████████████████████████████████████████████████████████████████| 5000/5000 [00:08<00:00, 598.67it/s]\n"
     ]
    }
   ],
   "source": [
    "\n",
    "\n",
    "epochs = 5000\n",
    "loss_trace = []\n",
    "for i in tqdm(range(epochs)):\n",
    "    loss_trace.append(MMDB.GD(learning_rate = 1e-2,\n",
    "                              lambda_l2 = 1e-2,\n",
    "                              lambda_RKHS = 1e9,\n",
    "                              ).item())\n",
    "\n"
   ]
  },
  {
   "cell_type": "code",
   "execution_count": 117,
   "id": "1523f6f1-34af-43a0-ac4e-186e57429dc9",
   "metadata": {},
   "outputs": [
    {
     "data": {
      "text/plain": [
       "[<matplotlib.lines.Line2D at 0x2a204babeb0>]"
      ]
     },
     "execution_count": 117,
     "metadata": {},
     "output_type": "execute_result"
    },
    {
     "data": {
      "image/png": "[encoded data removed]",
      "text/plain": [
       "<Figure size 432x288 with 1 Axes>"
      ]
     },
     "metadata": {
      "needs_background": "light"
     },
     "output_type": "display_data"
    }
   ],
   "source": [
    "plt.plot(np.array(loss_trace))"
   ]
  },
  {
   "cell_type": "code",
   "execution_count": null,
   "id": "71650f90-a7f8-4f50-b53c-de5c79bdbc70",
   "metadata": {},
   "outputs": [],
   "source": []
  },
  {
   "cell_type": "code",
   "execution_count": 118,
   "id": "1b272757-5531-4dcf-bb2d-0960ad3e2095",
   "metadata": {},
   "outputs": [
    {
     "data": {
      "text/plain": [
       "0.9317388"
      ]
     },
     "execution_count": 118,
     "metadata": {},
     "output_type": "execute_result"
    },
    {
     "data": {
      "image/png": "[encoded data removed]",
      "text/plain": [
       "<Figure size 864x576 with 1 Axes>"
      ]
     },
     "metadata": {
      "needs_background": "light"
     },
     "output_type": "display_data"
    }
   ],
   "source": [
    "weights = MMDB.weights.to(\"cpu\").detach().numpy()\n",
    "viz(weights)\n",
    "weights.mean()"
   ]
  },
  {
   "cell_type": "code",
   "execution_count": 119,
   "id": "fd736871-5aed-408e-bc12-60273b8f60fd",
   "metadata": {},
   "outputs": [
    {
     "data": {
      "text/plain": [
       "<matplotlib.legend.Legend at 0x2a224688250>"
      ]
     },
     "execution_count": 119,
     "metadata": {},
     "output_type": "execute_result"
    },
    {
     "data": {
      "image/png": "[encoded data removed]",
      "text/plain": [
       "<Figure size 864x576 with 1 Axes>"
      ]
     },
     "metadata": {
      "needs_background": "light"
     },
     "output_type": "display_data"
    }
   ],
   "source": [
    "\n",
    "plt.figure(figsize = (12,8))\n",
    "plt.plot(xi,weights, \"r.\", alpha = 0.5, label=\"source\")\n",
    "plt.legend()"
   ]
  },
  {
   "cell_type": "code",
   "execution_count": 236,
   "id": "4f45c400-7394-4712-a64d-4e9c57f6dc55",
   "metadata": {},
   "outputs": [
    {
     "name": "stdout",
     "output_type": "stream",
     "text": [
      "0.9624820112781567\n"
     ]
    }
   ],
   "source": [
    "y = MMDB.alpha\n",
    "y = y.type(torch.cdouble)\n",
    "#y = weights_OT.to(dev).type(torch.cdouble)\n",
    "lambda_RKHS = 1e4\n",
    "KXX = MMDB.KXX.type(torch.cdouble)\n",
    "#important\n",
    "KXX_ = torch.matmul(KXX.T,KXX)\n",
    "#\n",
    "#weights = torch.matmul(torch.matmul(torch.matmul(KXX,torch.linalg.inv(torch.matmul(KXX.T, KXX)+lambda_RKHS*KXX)),KXX),y)\n",
    "weights = torch.matmul(torch.matmul(torch.matmul(KXX,torch.linalg.inv(torch.matmul(KXX_.T, KXX)+lambda_RKHS*KXX)),KXX_),y)\n",
    "\n",
    "weights = torch.real(weights.to(\"cpu\")).detach().numpy()\n",
    "#weights = MMDB.alpha.to(\"cpu\").detach().numpy()\n",
    "print(np.mean(weights))\n"
   ]
  },
  {
   "cell_type": "code",
   "execution_count": 242,
   "id": "bc5e4e23-dd7b-4d46-a0a8-de921418dd0a",
   "metadata": {},
   "outputs": [
    {
     "name": "stdout",
     "output_type": "stream",
     "text": [
      "0.8655991430058229\n"
     ]
    }
   ],
   "source": [
    "#direct solves\n",
    "y = torch.ones(n, dtype = torch.cdouble, device = dev)\n",
    "#y = weights_OT.to(dev).type(torch.cdouble)\n",
    "lambda_RKHS = 1e3\n",
    "lambda_l2 = 1e-2\n",
    "KXX = MMDB.KXX.type(torch.cdouble)\n",
    "KXX_2 = torch.matmul(KXX.T,KXX)\n",
    "KXY = MMDB.KXY.type(torch.cdouble)\n",
    "alpha = torch.matmul(torch.matmul(torch.linalg.inv(torch.matmul(KXX.T, KXX)+lambda_RKHS*KXX + lambda_l2*KXX_2),KXY),y)\n",
    "weights = torch.matmul(KXX,alpha)\n",
    "\n",
    "weights = torch.real(weights.to(\"cpu\")).detach().numpy()\n",
    "#weights = MMDB.alpha.to(\"cpu\").detach().numpy()\n",
    "print(np.mean(weights))"
   ]
  },
  {
   "cell_type": "code",
   "execution_count": 243,
   "id": "4fbbc50e-ef7b-4cc4-a71b-d622616882b3",
   "metadata": {},
   "outputs": [
    {
     "data": {
      "image/png": "[encoded data removed]",
      "text/plain": [
       "<Figure size 864x576 with 1 Axes>"
      ]
     },
     "metadata": {
      "needs_background": "light"
     },
     "output_type": "display_data"
    }
   ],
   "source": [
    "viz(weights)"
   ]
  },
  {
   "cell_type": "code",
   "execution_count": 244,
   "id": "9bff6994-ae23-44ec-8a8d-f785ec0df80a",
   "metadata": {
    "tags": []
   },
   "outputs": [
    {
     "data": {
      "text/plain": [
       "<matplotlib.legend.Legend at 0x2a2b3a5b610>"
      ]
     },
     "execution_count": 244,
     "metadata": {},
     "output_type": "execute_result"
    },
    {
     "data": {
      "image/png": "[encoded data removed]",
      "text/plain": [
       "<Figure size 864x576 with 1 Axes>"
      ]
     },
     "metadata": {
      "needs_background": "light"
     },
     "output_type": "display_data"
    }
   ],
   "source": [
    "\n",
    "plt.figure(figsize = (12,8))\n",
    "plt.plot(xi,weights, \"r.\", alpha = 0.5, label=\"source\")\n",
    "plt.legend()"
   ]
  },
  {
   "cell_type": "code",
   "execution_count": 245,
   "id": "547e0a13-56a3-4978-b595-bf654d8f61d4",
   "metadata": {},
   "outputs": [
    {
     "name": "stderr",
     "output_type": "stream",
     "text": [
      "C:\\Users\\duqim\\anaconda3\\lib\\site-packages\\numpy\\lib\\histograms.py:851: ComplexWarning: Casting complex values to real discards the imaginary part\n",
      "  indices = f_indices.astype(np.intp)\n",
      "C:\\Users\\duqim\\anaconda3\\lib\\site-packages\\numpy\\core\\_asarray.py:102: ComplexWarning: Casting complex values to real discards the imaginary part\n",
      "  return array(a, dtype, copy=False, order=order)\n",
      "C:\\Users\\duqim\\anaconda3\\lib\\site-packages\\matplotlib\\transforms.py:1966: ComplexWarning: Casting complex values to real discards the imaginary part\n",
      "  x, y = float(x), float(y)\n"
     ]
    },
    {
     "data": {
      "text/plain": [
       "(array([  1.,   5.,  14.,  66., 236., 386., 212.,  65.,   9.,   6.]),\n",
       " array([-27.42960599+0.j, -22.40979869+0.j, -17.38999138+0.j,\n",
       "        -12.37018408+0.j,  -7.35037677+0.j,  -2.33056946+0.j,\n",
       "          2.68923784+0.j,   7.70904515+0.j,  12.72885245+0.j,\n",
       "         17.74865976+0.j,  22.76846706+0.j]),\n",
       " <BarContainer object of 10 artists>)"
      ]
     },
     "execution_count": 245,
     "metadata": {},
     "output_type": "execute_result"
    },
    {
     "data": {
      "image/png": "[encoded data removed]",
      "text/plain": [
       "<Figure size 432x288 with 1 Axes>"
      ]
     },
     "metadata": {
      "needs_background": "light"
     },
     "output_type": "display_data"
    }
   ],
   "source": [
    "plt.hist(alpha.to(\"cpu\").detach().numpy())"
   ]
  },
  {
   "cell_type": "code",
   "execution_count": null,
   "id": "7d8e7dcf-d8e1-4e35-9143-264401c66828",
   "metadata": {},
   "outputs": [],
   "source": []
  },
  {
   "cell_type": "code",
   "execution_count": null,
   "id": "84b8ee5d-4190-4a24-ae28-a0c7e4723a3c",
   "metadata": {},
   "outputs": [],
   "source": []
  },
  {
   "cell_type": "code",
   "execution_count": null,
   "id": "fba05874-c2cc-4cd1-915e-bb4c2c815834",
   "metadata": {},
   "outputs": [],
   "source": []
  },
  {
   "cell_type": "code",
   "execution_count": null,
   "id": "b54813cb-c9fd-4ccd-81f1-387a31505aea",
   "metadata": {},
   "outputs": [],
   "source": []
  },
  {
   "cell_type": "code",
   "execution_count": null,
   "id": "431d26dc-429f-4a8a-bf79-a8c47fedfcd1",
   "metadata": {},
   "outputs": [],
   "source": []
  },
  {
   "cell_type": "code",
   "execution_count": null,
   "id": "478173b3-b075-4177-80f1-c550dfd611b0",
   "metadata": {},
   "outputs": [],
   "source": []
  },
  {
   "cell_type": "code",
   "execution_count": null,
   "id": "6a622e83-25d6-4d40-87c4-86f54564cfc0",
   "metadata": {},
   "outputs": [],
   "source": []
  },
  {
   "cell_type": "code",
   "execution_count": null,
   "id": "a6227cd9-7aff-4d4b-afaa-d20784d1c9ef",
   "metadata": {},
   "outputs": [],
   "source": []
  },
  {
   "cell_type": "code",
   "execution_count": null,
   "id": "9a37d14d-5fe4-4c5b-b93d-ef6c2132f5cf",
   "metadata": {},
   "outputs": [],
   "source": []
  }
 ],
 "metadata": {
  "kernelspec": {
   "display_name": "Python 3",
   "language": "python",
   "name": "python3"
  },
  "language_info": {
   "codemirror_mode": {
    "name": "ipython",
    "version": 3
   },
   "file_extension": ".py",
   "mimetype": "text/x-python",
   "name": "python",
   "nbconvert_exporter": "python",
   "pygments_lexer": "ipython3",
   "version": "3.8.8"
  }
 },
 "nbformat": 4,
 "nbformat_minor": 5
}
