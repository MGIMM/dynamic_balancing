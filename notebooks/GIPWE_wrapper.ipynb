{
 "cells": [
  {
   "cell_type": "code",
   "execution_count": 16,
   "id": "2133af40-0b4f-4c88-8838-14a5a95863a0",
   "metadata": {},
   "outputs": [],
   "source": [
    "import torch\n",
    "import numpy as np\n",
    "import matplotlib.pyplot as plt\n",
    "%matplotlib inline\n",
    "from torch import nn\n",
    "from torch.utils.data import TensorDataset, DataLoader\n",
    "from tqdm import tqdm\n",
    "\n",
    "#utils\n"
   ]
  },
  {
   "cell_type": "markdown",
   "id": "49e5332d-bf72-411c-bed2-67fa698ed041",
   "metadata": {},
   "source": [
    "## GIPWE wrapper\n",
    "\n",
    "### input: \n",
    "\n",
    "```xi``` (support of source measure) \n",
    "\n",
    "```w``` (weights of source measure) \n",
    "\n",
    "```xi_ring``` (support of target measure) \n",
    "\n",
    "```w_ring``` (weights of target measure)\n",
    "\n",
    "```episilon``` (a prefixed small number to avoid division by 0 when conducting IPW)\n",
    "\n",
    "```test_split_ratio``` (ratio of test data set when conducting classification)\n",
    "\n",
    "```bootstrap_multiplier``` (times of the size of the bootstrapped samples when ```w``` and/or ```w_ring``` is/are not ```None```)\n",
    "\n",
    "### output: \n",
    "\n",
    "```eta_ring``` (Riesz representer)\n",
    "\n",
    "\n",
    "Based on the type of nuiance estimator of the intrumental supervised learning problem (shallow vs deep learning), there should be two wrappers, repectively based on ```numpy``` and ```pytorch```."
   ]
  },
  {
   "cell_type": "markdown",
   "id": "fe447d31-0557-468b-b112-003f7aba1883",
   "metadata": {},
   "source": [
    "## Synthetic data"
   ]
  },
  {
   "cell_type": "code",
   "execution_count": 49,
   "id": "99a84967-b333-4d45-a6dc-a532bebaf276",
   "metadata": {},
   "outputs": [
    {
     "name": "stdout",
     "output_type": "stream",
     "text": [
      "True\n"
     ]
    }
   ],
   "source": [
    "n = 500\n",
    "m = 500\n",
    "xi = torch.normal(mean = -1, std = 2, size = (n,1))\n",
    "xi_ring = torch.zeros(size = (m,1))\n",
    "for i in range(m):\n",
    "    if torch.rand(1).item()>0.3:\n",
    "        xi_ring[i,0] = torch.normal(mean = -4, std = 2, size = (1,)).item()\n",
    "    else:\n",
    "        xi_ring[i,0] = torch.normal(mean = 3, std = 0.2, size = (1,)).item()\n",
    "        \n",
    "print(type(xi) == torch.Tensor)\n",
    "xi = xi.detach().numpy()\n",
    "xi_ring = xi_ring.detach().numpy()\n",
    "w = np.ones(n)\n",
    "w_ring = np.ones(m)"
   ]
  },
  {
   "cell_type": "code",
   "execution_count": 50,
   "id": "a2a43a78-76e1-434c-8797-fc5cae5754e5",
   "metadata": {},
   "outputs": [],
   "source": [
    "def viz(weights, xi = xi,xi_ring = xi_ring):\n",
    "    plt.figure(figsize = (12,8))\n",
    "    plt.hist(xi_ring[:,0], alpha = 0.5, bins = 30, label =\"target\")\n",
    "    plt.hist(xi[:,0], alpha = 0.5, bins = 30, label =\"source\")\n",
    "    if weights is not None:\n",
    "        plt.hist(xi[:,0], weights = weights, alpha = 0.5, bins = 30, label =\"re-weighted source\")\n",
    "    plt.legend()"
   ]
  },
  {
   "cell_type": "code",
   "execution_count": 51,
   "id": "cdccaa4f-1a55-419b-affa-7578f0c6e7eb",
   "metadata": {},
   "outputs": [
    {
     "data": {
      "image/png": "[encoded data removed]",
      "text/plain": [
       "<Figure size 864x576 with 1 Axes>"
      ]
     },
     "metadata": {
      "needs_background": "light"
     },
     "output_type": "display_data"
    }
   ],
   "source": [
    "viz(None)"
   ]
  },
  {
   "cell_type": "markdown",
   "id": "308ee89f-e669-4199-80cb-d6ba7e65d442",
   "metadata": {},
   "source": [
    "## Shallow GIPW wrapper"
   ]
  },
  {
   "cell_type": "code",
   "execution_count": 52,
   "id": "cb2f7384-11c8-4d3b-bfaa-be530b5888d9",
   "metadata": {},
   "outputs": [],
   "source": [
    "class Shallow_GIPW:\n",
    "    def __init__(self, xi, xi_ring, w =None, w_ring = None, epsilon = 1e-8, test_split_ratio = 0.2, bootstrap_multiplier = 2):\n",
    "        # parameter used to avoid division by 0\n",
    "        self.epsilon = epsilon\n",
    "        # import support of source and target measures\n",
    "        self.xi = xi\n",
    "        self.xi_ = xi # backup\n",
    "        self.xi_ring = xi_ring\n",
    "        \n",
    "        self.n = self.xi.shape[0]\n",
    "        self.m = self.xi_ring.shape[0]\n",
    "        # backup\n",
    "        self.n_ = self.xi.shape[0]\n",
    "        self.m_ = self.xi_ring.shape[0]\n",
    "        # init weights\n",
    "        if w is not None:\n",
    "            self.w_bootstrap_indicator = True\n",
    "            self.w = w\n",
    "        else:\n",
    "            self.w = np.ones(self.n)\n",
    "            self.w_bootstrap_indicator = False\n",
    "        if w_ring is not None:\n",
    "            self.w_ring_bootstrap_indicator = True\n",
    "            self.w_ring = w_ring\n",
    "        else:\n",
    "            self.w_ring = np.ones(self.m)\n",
    "            self.w_ring_bootstrap_indicator = False\n",
    "        ## setup artificial supervised learning problem\n",
    "        if self.w_bootstrap_indicator:\n",
    "            self.xi = self.xi[np.random.choice(self.n, size = int(self.n*bootstrap_multiplier), p = self.w/np.sum(self.w))]\n",
    "            self.n *= bootstrap_multiplier\n",
    "        if self.w_ring_bootstrap_indicator:\n",
    "            self.xi_ring = self.xi_ring[np.random.choice(self.m, size = int(self.m*bootstrap_multiplier), p = self.w_ring/np.sum(self.w_ring))]\n",
    "            self.m *= bootstrap_multiplier\n",
    "        X = np.concatenate((self.xi,self.xi_ring), axis = 0)\n",
    "        Y = np.concatenate((np.zeros(self.n), np.ones(self.m)), axis = 0)\n",
    "        # apply a random permutation\n",
    "        random_indices = np.random.choice(self.n+self.m, self.n+self.m, replace = False)\n",
    "        X = X[random_indices]\n",
    "        Y = Y[random_indices]\n",
    "        # train/test splitting\n",
    "        self.Xtrain = X[random_indices[0:int((self.n+self.m)*test_split_ratio)],:]\n",
    "        self.Ytrain = Y[random_indices[0:int((self.n+self.m)*test_split_ratio)]]\n",
    "        self.Xtest = X[random_indices[int((self.n+self.m)*test_split_ratio)+1:],:]\n",
    "        self.Ytest = Y[random_indices[int((self.n+self.m)*test_split_ratio)+1:]]\n",
    "        \n",
    "    def train(self,model, log = False):\n",
    "        model.fit(self.Xtrain, self.Ytrain.reshape((self.Xtrain.shape[0],)))\n",
    "        test_loss = np.mean((model.predict(self.Xtest) - self.Ytest)**2)\n",
    "        train_loss = np.mean((model.predict(self.Xtrain) - self.Ytrain)**2)\n",
    "        if log:\n",
    "            print(\"train loss:\", train_loss)\n",
    "            print(\"test loss:\", test_loss)\n",
    "        try:\n",
    "            e = model.predict_proba(self.xi_)[:,1] \n",
    "        except:\n",
    "            e = model.predict(self.xi_) \n",
    "            \n",
    "        self.weights = e/(1.-e+self.epsilon) *self.n_/self.m_\n",
    "        \n",
    "        \n",
    "        \n",
    "        \n",
    "        \n",
    "        \n",
    "    \n",
    "        \n",
    "        \n",
    "    \n",
    "            "
   ]
  },
  {
   "cell_type": "code",
   "execution_count": 53,
   "id": "406e1ac7-2b75-4a56-9195-ffdc10957ff4",
   "metadata": {},
   "outputs": [
    {
     "data": {
      "text/plain": [
       "NoneType"
      ]
     },
     "execution_count": 53,
     "metadata": {},
     "output_type": "execute_result"
    }
   ],
   "source": [
    "type(None)"
   ]
  },
  {
   "cell_type": "code",
   "execution_count": 54,
   "id": "bb3b3e19-6d78-4dad-b52b-c57a0b4cd2ef",
   "metadata": {},
   "outputs": [],
   "source": [
    "SGIPW = Shallow_GIPW(xi, xi_ring)"
   ]
  },
  {
   "cell_type": "markdown",
   "id": "e282627f-66ff-4f4f-9141-b6db896dbd4c",
   "metadata": {},
   "source": [
    "### Random Forests GIPW"
   ]
  },
  {
   "cell_type": "code",
   "execution_count": 55,
   "id": "916caef0-2efd-433a-9b03-71423493b704",
   "metadata": {},
   "outputs": [
    {
     "name": "stdout",
     "output_type": "stream",
     "text": [
      "train loss: 0.15776166422322954\n",
      "test loss: 0.15973781783682886\n"
     ]
    }
   ],
   "source": [
    "from sklearn.ensemble import RandomForestRegressor\n",
    "RF = RandomForestRegressor(n_estimators = 100, min_samples_split = 50)\n",
    "\n",
    "SGIPW = Shallow_GIPW(xi, xi_ring, w = np.ones(n), w_ring = np.ones(m), bootstrap_multiplier = 1)\n",
    "SGIPW.train(RF,log=True)\n",
    "weights = SGIPW.weights\n"
   ]
  },
  {
   "cell_type": "code",
   "execution_count": 56,
   "id": "60a2e074-19f6-4aae-a7bf-7fcc0724a002",
   "metadata": {},
   "outputs": [
    {
     "data": {
      "image/png": "[encoded data removed]",
      "text/plain": [
       "<Figure size 864x576 with 1 Axes>"
      ]
     },
     "metadata": {
      "needs_background": "light"
     },
     "output_type": "display_data"
    }
   ],
   "source": [
    "viz(weights)"
   ]
  },
  {
   "cell_type": "markdown",
   "id": "b9b4e845-2527-4f9c-aac7-76214c4d7359",
   "metadata": {},
   "source": [
    "### XGBoost GIPW"
   ]
  },
  {
   "cell_type": "code",
   "execution_count": 57,
   "id": "8b6789db-4570-47bd-8886-81c5ac79b332",
   "metadata": {},
   "outputs": [
    {
     "name": "stdout",
     "output_type": "stream",
     "text": [
      "train loss: 0.16248012456551023\n",
      "test loss: 0.18338981421927453\n"
     ]
    }
   ],
   "source": [
    "import xgboost as xgb\n",
    "SGIPW = Shallow_GIPW(xi, xi_ring)\n",
    "XGB = xgb.XGBRegressor(n_estimators = 10, gamma = 3)\n",
    "SGIPW.train(XGB,log=True)\n",
    "weights = SGIPW.weights"
   ]
  },
  {
   "cell_type": "code",
   "execution_count": 58,
   "id": "99174c31-628b-41ae-a8aa-5007ece949c0",
   "metadata": {},
   "outputs": [
    {
     "data": {
      "image/png": "[encoded data removed]",
      "text/plain": [
       "<Figure size 864x576 with 1 Axes>"
      ]
     },
     "metadata": {
      "needs_background": "light"
     },
     "output_type": "display_data"
    }
   ],
   "source": [
    "viz(weights)"
   ]
  },
  {
   "cell_type": "markdown",
   "id": "a01e0481-7c41-4a0b-9183-37d2559ba10c",
   "metadata": {},
   "source": [
    "### Logistic Regression GIPW"
   ]
  },
  {
   "cell_type": "code",
   "execution_count": 59,
   "id": "ecd04413-7d1c-4d60-90cd-5faecbfbe21c",
   "metadata": {},
   "outputs": [
    {
     "name": "stdout",
     "output_type": "stream",
     "text": [
      "train loss: 0.355\n",
      "test loss: 0.3454317897371715\n"
     ]
    }
   ],
   "source": [
    "from sklearn.linear_model import LogisticRegression\n",
    "LR = LogisticRegression(penalty = \"none\")\n",
    "SGIPW.train(LR,log=True)\n",
    "weights = SGIPW.weights"
   ]
  },
  {
   "cell_type": "code",
   "execution_count": 60,
   "id": "e3e2e49e-34c8-44ad-a9a8-72df57fd1fe8",
   "metadata": {},
   "outputs": [
    {
     "data": {
      "image/png": "[encoded data removed]",
      "text/plain": [
       "<Figure size 864x576 with 1 Axes>"
      ]
     },
     "metadata": {
      "needs_background": "light"
     },
     "output_type": "display_data"
    }
   ],
   "source": [
    "viz(weights)"
   ]
  },
  {
   "cell_type": "markdown",
   "id": "b8c9efce-eb05-4056-b891-9e77b4e67680",
   "metadata": {},
   "source": [
    "## Deep GIPW\n",
    "\n",
    "Now, we implement the idea of GIPW with a NN. Though the basic idea remains the same as described in the previous Shallow GIPW wrapper, the implementation of the Deep GIPW is quite different. We provide here a ```pytorch``` version of ```Deep_GIPW```."
   ]
  },
  {
   "cell_type": "code",
   "execution_count": 61,
   "id": "64c3f8fb-aa61-4103-82cc-bf954131052c",
   "metadata": {},
   "outputs": [],
   "source": [
    "# detect whether cuda is available\n",
    "if torch.cuda.is_available():\n",
    "    dev = \"cpu\" \n",
    "else:\n",
    "    dev = \"cuda:0\"\n",
    "    \n",
    "xi = torch.from_numpy(xi).to(dev)\n",
    "xi_ring = torch.from_numpy(xi_ring).to(dev)\n",
    "w = torch.from_numpy(w).to(dev)\n",
    "w_ring = torch.from_numpy(w_ring).to(dev)"
   ]
  },
  {
   "cell_type": "code",
   "execution_count": 62,
   "id": "c3ae7e2a-8895-4647-b6d0-0d09b212b2bc",
   "metadata": {},
   "outputs": [],
   "source": [
    "class Deep_GIPW():\n",
    "    def __init__(self, xi = xi, xi_ring = xi_ring, w = None, w_ring = None, epsilon = 1e-8, dev = dev, test_split_ratio = 0.2, bootstrap_multiplier = 2):\n",
    "        self.epsilon = epsilon\n",
    "        self.dev = dev\n",
    "        with torch.no_grad():\n",
    "            self.xi = xi.clone().to(self.dev)\n",
    "            self.xi_ring = xi_ring.clone().to(self.dev)\n",
    "            # backup\n",
    "            self.xi_ = xi.clone().to(self.dev)\n",
    "            self.xi_ring_ = xi_ring.clone().to(self.dev)\n",
    "            if w is not None:\n",
    "                self.w = w.clone().to(self.dev)\n",
    "            else:\n",
    "                self.w = torch.ones(len(xi)).clone().to(self.dev)\n",
    "            if w_ring is not None:\n",
    "                self.w_ring = w_ring.clone().to(self.dev)\n",
    "            else:\n",
    "                self.w_ring = torch.ones(len(xi_ring)).to(self.dev)\n",
    "        self.n = len(xi)\n",
    "        self.m = len(xi_ring)\n",
    "        # backup\n",
    "        self.n_ = len(xi)\n",
    "        self.m_ = len(xi_ring)\n",
    "        \n",
    "        if w is not None:\n",
    "            self.w_bootstrap_indicator = True\n",
    "            self.w = w.to(self.dev)\n",
    "        else:\n",
    "            self.w = torch.ones(self.n).to(self.dev)\n",
    "            self.w_bootstrap_indicator = False\n",
    "        if w_ring is not None:\n",
    "            self.w_ring_bootstrap_indicator = True\n",
    "            self.w_ring = w_ring.to(self.dev)\n",
    "        else:\n",
    "            self.w_ring = torch.ones(self.m).to(self.dev)\n",
    "            self.w_ring_bootstrap_indicator = False\n",
    "        ## setup artificial supervised learning problem\n",
    "        if self.w_bootstrap_indicator:\n",
    "            self.xi = self.xi[np.random.choice(self.n, size = int(self.n*bootstrap_multiplier), p = self.w/torch.sum(self.w))]\n",
    "            self.n *= bootstrap_multiplier\n",
    "        if self.w_ring_bootstrap_indicator:\n",
    "            self.xi_ring = self.xi_ring[np.random.choice(self.m, size = int(self.m*bootstrap_multiplier), p = self.w_ring/torch.sum(self.w_ring))]\n",
    "            self.m *= bootstrap_multiplier\n",
    "        X = torch.cat((self.xi,self.xi_ring), axis = 0)\n",
    "        Y = torch.cat((torch.zeros((self.n,1)), torch.ones((self.m,1))), axis = 0)\n",
    "        # apply a random permutation\n",
    "        random_indices = np.random.choice(self.n+self.m, self.n+self.m, replace = False)\n",
    "        X = X[random_indices]\n",
    "        Y = Y[random_indices]\n",
    "        # train/test splitting\n",
    "        self.Xtrain = X[random_indices[0:int((self.n+self.m)*test_split_ratio)],:]\n",
    "        self.Ytrain = Y[random_indices[0:int((self.n+self.m)*test_split_ratio)]]\n",
    "        self.Xtest = X[random_indices[int((self.n+self.m)*test_split_ratio)+1:],:]\n",
    "        self.Ytest = Y[random_indices[int((self.n+self.m)*test_split_ratio)+1:]]\n",
    "    \n",
    "    def train(self,\n",
    "              model,\n",
    "              optimizer,\n",
    "              batch_size = 64,\n",
    "              epochs = 500):\n",
    "        loss_fn = nn.MSELoss()\n",
    "        dataset_train = TensorDataset(self.Xtrain,self.Ytrain.type(torch.float))\n",
    "        dataset_test = TensorDataset(self.Xtest,self.Ytest.type(torch.float))\n",
    "        train_dataloader = DataLoader(dataset_train, batch_size=batch_size)\n",
    "        test_dataloader = DataLoader(dataset_test, batch_size=batch_size)\n",
    "        def train_loop():\n",
    "            size = len(train_dataloader.dataset)\n",
    "            for batch, (X, y) in enumerate(train_dataloader):\n",
    "                # Compute prediction and loss\n",
    "                pred = model(X)\n",
    "                loss = loss_fn(pred, y)\n",
    "        \n",
    "                # Backpropagation\n",
    "                optimizer.zero_grad()\n",
    "                loss.backward()\n",
    "                optimizer.step()\n",
    "        \n",
    "                if batch % 100 == 0:\n",
    "                    loss, current = loss.item(), batch * len(X)\n",
    "                    #print(f\"loss: {loss:>7f}  [{current:>5d}/{size:>5d}]\")\n",
    "            return loss\n",
    "\n",
    "\n",
    "        def test_loop():\n",
    "            size = len(test_dataloader.dataset)\n",
    "            num_batches = len(test_dataloader)\n",
    "            #test_loss, correct = 0, 0\n",
    "            test_loss = 0\n",
    "        \n",
    "            with torch.no_grad():\n",
    "                for X, y in test_dataloader:\n",
    "                    pred = model(X)\n",
    "                    test_loss += loss_fn(pred, y).item()\n",
    "                    #correct += (pred.argmax(1) == y).type(torch.float).sum().item()\n",
    "        \n",
    "            test_loss /= num_batches\n",
    "            return test_loss\n",
    "        test_loss_trace = []\n",
    "        train_loss_trace = []\n",
    "        for t in tqdm(range(epochs)):\n",
    "            current_train_loss = train_loop()\n",
    "            current_test_loss = test_loop()\n",
    "            test_loss_trace.append(current_test_loss)\n",
    "            train_loss_trace.append(current_train_loss.to(\"cpu\").detach().numpy())\n",
    "        return train_loss_trace, test_loss_trace\n",
    "        \n",
    "        \n",
    "        "
   ]
  },
  {
   "cell_type": "code",
   "execution_count": 63,
   "id": "6e5963e7-578a-434b-b5de-250cf34535f4",
   "metadata": {},
   "outputs": [],
   "source": [
    "DGIPW = Deep_GIPW(xi,xi_ring,w,w_ring)"
   ]
  },
  {
   "cell_type": "markdown",
   "id": "6de11a93-a5c9-4060-9dec-719c995b3d7c",
   "metadata": {},
   "source": [
    "### build NN for supervised learning"
   ]
  },
  {
   "cell_type": "code",
   "execution_count": 64,
   "id": "5da8c0ad-bf11-4310-98c1-5efc062f3a85",
   "metadata": {},
   "outputs": [],
   "source": [
    "class NeuralNetwork(nn.Module):\n",
    "    def __init__(self,input_dim = 1, num_nodes = 16):\n",
    "        super(NeuralNetwork, self).__init__()\n",
    "        self.flatten = nn.Flatten()\n",
    "        self.linear_stack = nn.Sequential(\n",
    "            nn.Linear(input_dim, num_nodes),\n",
    "            nn.ReLU(),\n",
    "            #nn.Dropout(0.3),\n",
    "            #nn.BatchNorm1d(num_nodes), \n",
    "            \n",
    "            nn.Linear(num_nodes, num_nodes),\n",
    "            nn.Sigmoid(),\n",
    "            nn.Linear(num_nodes, num_nodes),\n",
    "            nn.Sigmoid(),\n",
    "            #nn.Dropout(0.3),\n",
    "            #nn.BatchNorm1d(num_nodes), \n",
    "            \n",
    "            #nn.Linear(num_nodes, num_nodes),\n",
    "            #nn.ReLU(),\n",
    "            # # #nn.Dropout(0.3),\n",
    "            # # nn.BatchNorm1d(num_nodes), \n",
    "            \n",
    "            nn.Linear(num_nodes, 1),\n",
    "            nn.Sigmoid(),\n",
    "        )\n",
    "\n",
    "    def forward(self, x):\n",
    "        x = self.flatten(x)\n",
    "        target = self.linear_stack(x)\n",
    "        return target"
   ]
  },
  {
   "cell_type": "markdown",
   "id": "6fc83d20-9faa-47c4-85f7-a6a278083ce7",
   "metadata": {},
   "source": [
    "### build Adam optimizer"
   ]
  },
  {
   "cell_type": "code",
   "execution_count": 70,
   "id": "fa3768df-909f-4e0d-aef1-5a009736d910",
   "metadata": {},
   "outputs": [],
   "source": [
    "learning_rate = 1e-3\n",
    "model = NeuralNetwork(num_nodes = 16).to(dev)\n",
    "optimizer = torch.optim.Adam(model.parameters(), lr=learning_rate, betas=(0.9, 0.999), eps=1e-08, weight_decay=0, amsgrad=True)"
   ]
  },
  {
   "cell_type": "code",
   "execution_count": 71,
   "id": "8036de01-a636-4acf-93d9-b3aa1fe351be",
   "metadata": {},
   "outputs": [
    {
     "name": "stderr",
     "output_type": "stream",
     "text": [
      "100%|████████████████████████████████████████████████████████████████████████████████| 500/500 [00:16<00:00, 29.60it/s]\n"
     ]
    }
   ],
   "source": [
    "train_loss_trace, test_loss_trace = DGIPW.train(model, optimizer)"
   ]
  },
  {
   "cell_type": "code",
   "execution_count": 72,
   "id": "800175ff-2cd0-427a-bede-c28b59a16943",
   "metadata": {},
   "outputs": [
    {
     "data": {
      "text/plain": [
       "<matplotlib.legend.Legend at 0x1b0a99fde50>"
      ]
     },
     "execution_count": 72,
     "metadata": {},
     "output_type": "execute_result"
    },
    {
     "data": {
      "image/png": "[encoded data removed]",
      "text/plain": [
       "<Figure size 864x576 with 1 Axes>"
      ]
     },
     "metadata": {
      "needs_background": "light"
     },
     "output_type": "display_data"
    }
   ],
   "source": [
    "plt.figure(figsize = (12,8))\n",
    "plt.plot(np.array(test_loss_trace), label =\"test\")\n",
    "plt.plot(np.array(train_loss_trace), label = \"train\")\n",
    "plt.title(\"Learning curve on the test data set.\")\n",
    "plt.legend()"
   ]
  },
  {
   "cell_type": "code",
   "execution_count": 73,
   "id": "b3c2aa34-7a1d-47e4-aa3e-b5efae926a60",
   "metadata": {},
   "outputs": [],
   "source": [
    "e = model(DGIPW.xi_)\n",
    "weights = e/(1.-e+DGIPW.epsilon) *DGIPW.n_/DGIPW.m_\n",
    "weights = weights.to(\"cpu\").detach().numpy()"
   ]
  },
  {
   "cell_type": "code",
   "execution_count": 74,
   "id": "04d9d855-eec6-406b-8de1-801ef977d360",
   "metadata": {},
   "outputs": [
    {
     "data": {
      "image/png": "[encoded data removed]",
      "text/plain": [
       "<Figure size 864x576 with 1 Axes>"
      ]
     },
     "metadata": {
      "needs_background": "light"
     },
     "output_type": "display_data"
    }
   ],
   "source": [
    "viz(weights)"
   ]
  },
  {
   "cell_type": "code",
   "execution_count": null,
   "id": "1353522d-31c0-4cbf-b891-4e3dd7128ac8",
   "metadata": {},
   "outputs": [],
   "source": []
  },
  {
   "cell_type": "code",
   "execution_count": null,
   "id": "97021e53-89f7-420b-9166-fd3afec42fd4",
   "metadata": {},
   "outputs": [],
   "source": []
  },
  {
   "cell_type": "code",
   "execution_count": null,
   "id": "8bfbba10-120a-4302-98e8-8e3ebeddc4d2",
   "metadata": {},
   "outputs": [],
   "source": []
  },
  {
   "cell_type": "code",
   "execution_count": null,
   "id": "e51a5063-d869-4ae7-9c3d-c57148a61dbe",
   "metadata": {},
   "outputs": [],
   "source": []
  },
  {
   "cell_type": "code",
   "execution_count": null,
   "id": "a8c18524-c2e1-4030-8c33-71ea0a721379",
   "metadata": {},
   "outputs": [],
   "source": []
  },
  {
   "cell_type": "code",
   "execution_count": null,
   "id": "d44ee7c9-561a-498a-be46-20014cd44ee8",
   "metadata": {},
   "outputs": [],
   "source": []
  }
 ],
 "metadata": {
  "kernelspec": {
   "display_name": "Python 3",
   "language": "python",
   "name": "python3"
  },
  "language_info": {
   "codemirror_mode": {
    "name": "ipython",
    "version": 3
   },
   "file_extension": ".py",
   "mimetype": "text/x-python",
   "name": "python",
   "nbconvert_exporter": "python",
   "pygments_lexer": "ipython3",
   "version": "3.8.8"
  }
 },
 "nbformat": 4,
 "nbformat_minor": 5
}
