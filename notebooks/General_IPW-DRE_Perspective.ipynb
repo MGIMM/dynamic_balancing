{
 "cells": [
  {
   "cell_type": "markdown",
   "id": "157906fa-44f5-4d4f-8591-ff9b2a663163",
   "metadata": {},
   "source": [
    "# General Inverse Probability Weighting: From a Density Ratio Estimation Perspective\n",
    "\n",
    "## (A)IPWE with finite-value action\n",
    "Inverse Probabiltiy Weighting (IPW) has been regarded as standard approach in Potential Outcomes framework when the action space $\\mathcal{A}$ is of finite values (e.g., $\\mathcal{A} = \\{0,1\\}$). For example, when $\\mathcal{A} = \\{0,1\\}$, and assuming that our goal is to estimate $\\mathbb{E}[Y(1)]$, the general idea is to consider an estimator \n",
    "constructed by\n",
    "$$\n",
    " \\hat{E} = \\frac{1}{n} \\sum_{i=1}^n \\frac{Y_i A_i}{\\hat{\\mathbb{P}} (A=1|X)}.\n",
    "$$\n",
    "The idea behind such construction is quite straightforward. In fact,\n",
    "$$\n",
    "\\mathbb{E}\\left[\\frac{YA}{\\mathbb{P}(A = 1 | X)}\\right]\n",
    "=\n",
    "\\mathbb{E}\\left[\\mathbb{E}\\left[\\frac{YA}{\\mathbb{P}(A = 1 | X)}\\right] | X\\right].\n",
    "$$\n",
    "Assuming unconfoundedness, i.e., $Y$ and $A$ are conditionally independent given $X$, it is easily checked that the r.h.s. of the equation above is but $\\mathbb{E}[Y(1)]$.\n",
    "Similary idea gives also the construction of Augumented IPW estimator (AIPWE), i.e.,\n",
    "$$\n",
    " \\hat{E} = \\frac{1}{n} \\sum_{i=1}^n \\frac{(Y_i - \\hat{\\mu}_1(X_i))  A_i}{\\hat{\\mathbb{P}} (A=1|X = X_i)} + \\frac{1}{n} \\sum_{i=1}^n\\hat{\\mu}_1(X_i),\n",
    "$$\n",
    "where $\\hat{\\mu}_1 (\\cdot)$ is an estimation of the conditional expectation function $\\mathbb{E}[Y(1) | X = \\cdot]$.\n",
    "In general, a proper data splitting is required to remove the dependence of $\\hat{\\mu}_1$ and the data point $X_i$.\n",
    "\n",
    "In both case, there is a \"inversed probability\" mechanism w.r.t. $\\mathbb{P}(A=1|X)$.\n",
    "The idea behind such construtions can be ragarded as a balanacning mechanism between the population $X$ and the target sub-population $X(1)$ associated with action $1$, through re-weighting. The weight is but the inverse probability $1/\\mathbb{P}(A =1 | X)$.\n",
    "Meanwhile, one notices that this construction only works in the case where the action space is of finite values. In the next section, we inverstigate the general setting where the action is an arbitrary Polish space.\n",
    "\n",
    "## State-action (A)IPWE\n",
    "\n",
    "The state-action variable is simply defined as the couple $X^{\\natural} = (X,A)$. Now, we consider the policy evaluation problem where the sampling policy is denoted by $\\pi$ and the target policy is $\\mathring{\\pi}$. Our goal is to evaluate the average pentential outcomes under the target policy $\\mathbb{E}[Y^{\\mathring{\\pi}}]$, using the data collected under sampling policy $\\pi$.\n",
    "In this case, one notices that the underlying distributions to be balanced are the state-action variable $X^{\\natural}$ and $\\mathring{X}^{\\natural} = (\\mathring{X}, \\mathring{A})$, where $\\mathring{A}$ is the action variable assocaited to the target policy $\\mathring{\\pi}$ and $\\mathring{X}$ is the target population. When no covariate shifts are involved, the distribution of $\\mathring{X}$ is the same as $X$.\n",
    "On the one hand, the samples of $X^{\\natural}$ is already collected in the data set. On the other hand, the target policy is known, which implies that $\\mathring{X}^{\\natural}$ can also be sampled with additional sampling mechanism according to $\\mathring{\\pi}$. Hence, the rest of the problem becomes the balancing between two probability measures, which enters into the classical Density Ratio Estimation problem. \n",
    "\n",
    "## Density ratio estimtation\n",
    "\n",
    "Assume that we have already the samples $X_i^{\\natural}$ and $\\mathring{X}_j^{\\natural}$. We show in the following that how to perform a balancing between the two empirical measures $\\xi_n^{\\pi^{\\natural}} = \\frac{1}{n}\\sum_{i=1}^n \\delta_{X_i^{\\natural}}$ and $\\mathring{\\xi}_m^{\\mathring{\\pi}^{\\natural}} = \\frac{1}{m}\\sum_{j=1}^m \\delta_{\\mathring{X}_j^{\\natural}}$ through a general IPW construction.\n",
    "\n",
    "First, we assign a label $0$ to each the source data point $X_i^{\\natural}$ and a label $1$ to each target data point $\\mathring{X}_j^{\\natural}$.\n",
    "Then, we consider an artificial classification problem w.r.t. these labels. The associated conditional probability function is denoted by $e(\\cdot) = \\mathbb{E}[I | Z = \\cdot]$,\n",
    "where $I$ is the random variable of the label and $Z$ is the underlying instrumental state-action random variable. More precisely, we have\n",
    "$$\n",
    "Z|I=0 \\sim \\xi^{\\pi^{\\natural}},\n",
    "$$\n",
    "and\n",
    "$$\n",
    "Z|I=1 \\sim \\mathring{\\xi}^{\\mathring{\\pi}^{\\natural}}.\n",
    "$$\n",
    "Finally, the associated weight function can be defined as\n",
    "$$\n",
    "\\frac{e(\\cdot)}{1 - e(\\cdot) } \\cdot \\frac{\\mathbb{E}[1-I]}{\\mathbb{E}[I]},\n",
    "$$\n",
    "with the empirical version given by\n",
    "$$\n",
    "\\frac{\\hat{e}(\\cdot)}{1 - \\hat{e}(\\cdot) } \\cdot \\frac{n}{m}.\n",
    "$$\n",
    "\n",
    "The rest of the work is to estimate $e(\\cdot)$ through a off-the-shelf classifier, which is a typicall supervised learning problem.\n",
    "\n",
    "## Why it works\n",
    "\n",
    "By definition, it is easily checked that $I$ and $(X^{\\natural}, \\mathring{X}^{\\natural})$ are conditional independ given $Z$.\n",
    "Hence, we have\n",
    "$$\n",
    "\\mathbb{E}[f(Z) I] = \\mathbb{E}[f(\\mathring{X}^{\\natural})] \\mathbb{E}[I],\n",
    "$$\n",
    "and\n",
    "$$\n",
    "\\mathbb{E}[f(Z) (1-I)] = \\mathbb{E}[f(X^{\\natural})] \\mathbb{E}[1-I],\n",
    "$$\n",
    "which implies\n",
    "$$\n",
    "\\mathbb{E} \\left[f(Z) (1-I) \\frac{e(Z)}{1-e(Z)}\\right]/\\mathbb{E}[I]\n",
    "=\n",
    "\\mathbb{E}[f(\\mathring{X}^{\\natural})].\n",
    "$$\n"
   ]
  },
  {
   "cell_type": "code",
   "execution_count": 1,
   "id": "58e2854f-b3aa-4353-a964-3034cb0ec733",
   "metadata": {},
   "outputs": [],
   "source": [
    "import torch\n",
    "import numpy as np\n",
    "import matplotlib.pyplot as plt\n",
    "%matplotlib inline\n",
    "from torch import nn\n",
    "from torch.utils.data import TensorDataset, DataLoader\n",
    "from tqdm import tqdm"
   ]
  },
  {
   "cell_type": "markdown",
   "id": "46d1500e-2cf1-44a1-b1e0-825aa252c48c",
   "metadata": {},
   "source": [
    "## Generate synthetic data set"
   ]
  },
  {
   "cell_type": "code",
   "execution_count": 2,
   "id": "56d6c452-edff-46a9-af03-7881a2903cd4",
   "metadata": {},
   "outputs": [],
   "source": [
    "n = 2000\n",
    "m = 2000\n",
    "xi = torch.normal(mean = -1, std = 2, size = (n,1))\n",
    "xi_ring = torch.zeros(size = (m,1))\n",
    "for i in range(m):\n",
    "    if torch.rand(1).item()>0.3:\n",
    "        xi_ring[i,0] = torch.normal(mean = -4, std = 2, size = (1,)).item()\n",
    "    else:\n",
    "        xi_ring[i,0] = torch.normal(mean = 3, std = 0.2, size = (1,)).item()\n"
   ]
  },
  {
   "cell_type": "code",
   "execution_count": 3,
   "id": "6fe5bcb4-8fc9-4a99-94f9-34974cf7c561",
   "metadata": {},
   "outputs": [
    {
     "data": {
      "text/plain": [
       "<matplotlib.legend.Legend at 0x1e1e23512e0>"
      ]
     },
     "execution_count": 3,
     "metadata": {},
     "output_type": "execute_result"
    },
    {
     "data": {
      "image/png": "[encoded data removed]",
      "text/plain": [
       "<Figure size 864x576 with 1 Axes>"
      ]
     },
     "metadata": {
      "needs_background": "light"
     },
     "output_type": "display_data"
    }
   ],
   "source": [
    "plt.figure(figsize = (12,8))\n",
    "plt.hist(xi_ring[:,0].to(\"cpu\").detach().numpy(), alpha = 0.5, bins = 30, label =\"target\")\n",
    "plt.hist(xi[:,0].to(\"cpu\").detach().numpy(), alpha = 0.5, bins = 30, label =\"source\")\n",
    "plt.legend()"
   ]
  },
  {
   "cell_type": "markdown",
   "id": "c601f1dd-8a29-4add-aa41-90d0dd108728",
   "metadata": {},
   "source": [
    "## Build artificial classification probelm"
   ]
  },
  {
   "cell_type": "code",
   "execution_count": 3,
   "id": "4226bed1-6db0-4494-be73-1e10885f48f2",
   "metadata": {},
   "outputs": [],
   "source": [
    "X = torch.cat((xi,xi_ring),0)\n",
    "Y = torch.cat((torch.zeros((n,1)),torch.ones((m,1))),0)\n",
    "# apply a random permutation\n",
    "rand_index = torch.multinomial(torch.ones(m+n),m+n,replacement = False)\n",
    "\n",
    "ratio = 0.2 # test/all ratio\n",
    "Xtrain = X[rand_index[0:int((n+m)*ratio)],:].to(\"cuda:0\")\n",
    "Ytrain = Y[rand_index[0:int((n+m)*ratio)],:].to(\"cuda:0\")\n",
    "Xtest = X[rand_index[int((n+m)*ratio)+1:],:].to(\"cuda:0\")\n",
    "Ytest = Y[rand_index[int((n+m)*ratio)+1:],:].to(\"cuda:0\")"
   ]
  },
  {
   "cell_type": "markdown",
   "id": "43916ecf-70e7-44f6-9ab6-d4c8d66b1a4c",
   "metadata": {},
   "source": [
    "## Construct a Sigmoid NN with 2 hidden layers"
   ]
  },
  {
   "cell_type": "code",
   "execution_count": 4,
   "id": "2c39ee72-3eef-4ae9-9cbb-96d42ad63a25",
   "metadata": {},
   "outputs": [],
   "source": [
    "class NeuralNetwork(nn.Module):\n",
    "    def __init__(self,input_dim = 1, num_nodes = 16):\n",
    "        super(NeuralNetwork, self).__init__()\n",
    "        self.flatten = nn.Flatten()\n",
    "        self.linear_stack = nn.Sequential(\n",
    "            nn.Linear(input_dim, num_nodes),\n",
    "            nn.ReLU(),\n",
    "            #nn.Dropout(0.3),\n",
    "            #nn.BatchNorm1d(num_nodes), \n",
    "            \n",
    "            nn.Linear(num_nodes, num_nodes),\n",
    "            nn.Sigmoid(),\n",
    "            nn.Linear(num_nodes, num_nodes),\n",
    "            nn.Sigmoid(),\n",
    "            #nn.Dropout(0.3),\n",
    "            #nn.BatchNorm1d(num_nodes), \n",
    "            \n",
    "            #nn.Linear(num_nodes, num_nodes),\n",
    "            #nn.ReLU(),\n",
    "            # # #nn.Dropout(0.3),\n",
    "            # # nn.BatchNorm1d(num_nodes), \n",
    "            \n",
    "            nn.Linear(num_nodes, 1),\n",
    "            nn.Sigmoid(),\n",
    "        )\n",
    "\n",
    "    def forward(self, x):\n",
    "        x = self.flatten(x)\n",
    "        target = self.linear_stack(x)\n",
    "        return target"
   ]
  },
  {
   "cell_type": "code",
   "execution_count": 5,
   "id": "2f6ffadc-f954-4e91-9bbd-96fa94210b9d",
   "metadata": {},
   "outputs": [],
   "source": [
    "learning_rate = 1e-3\n",
    "batch_size = 64\n",
    "epochs = 500\n",
    "model = NeuralNetwork().to(\"cuda:0\")\n",
    "\n",
    "\n",
    "dataset_train = TensorDataset(Xtrain,Ytrain.type(torch.float))\n",
    "dataset_test = TensorDataset(Xtest,Ytest.type(torch.float))\n",
    "train_dataloader = DataLoader(dataset_train, batch_size=batch_size)\n",
    "test_dataloader = DataLoader(dataset_test, batch_size=batch_size)"
   ]
  },
  {
   "cell_type": "code",
   "execution_count": 6,
   "id": "095d0bef-0b2f-406f-a721-1b9f2cf4af8e",
   "metadata": {},
   "outputs": [],
   "source": [
    "loss_fn = nn.MSELoss()"
   ]
  },
  {
   "cell_type": "code",
   "execution_count": 7,
   "id": "99cc9b57-04a8-41ea-8648-1aca230b5320",
   "metadata": {},
   "outputs": [],
   "source": [
    "optimizer = torch.optim.Adam(model.parameters(), lr=learning_rate, betas=(0.9, 0.999), eps=1e-08, weight_decay=0, amsgrad=True)"
   ]
  },
  {
   "cell_type": "code",
   "execution_count": 8,
   "id": "de8b5a23-144b-48db-8697-862607ff7ec2",
   "metadata": {},
   "outputs": [],
   "source": [
    "def train_loop(dataloader, model, loss_fn, optimizer):\n",
    "    size = len(dataloader.dataset)\n",
    "    for batch, (X, y) in enumerate(dataloader):\n",
    "        # Compute prediction and loss\n",
    "        pred = model(X)\n",
    "        loss = loss_fn(pred, y)\n",
    "\n",
    "        # Backpropagation\n",
    "        optimizer.zero_grad()\n",
    "        loss.backward()\n",
    "        optimizer.step()\n",
    "\n",
    "        if batch % 100 == 0:\n",
    "            loss, current = loss.item(), batch * len(X)\n",
    "            #print(f\"loss: {loss:>7f}  [{current:>5d}/{size:>5d}]\")\n",
    "    return loss\n",
    "\n",
    "\n",
    "def test_loop(dataloader, model, loss_fn):\n",
    "    size = len(dataloader.dataset)\n",
    "    num_batches = len(dataloader)\n",
    "    #test_loss, correct = 0, 0\n",
    "    test_loss = 0\n",
    "\n",
    "    with torch.no_grad():\n",
    "        for X, y in dataloader:\n",
    "            pred = model(X)\n",
    "            test_loss += loss_fn(pred, y).item()\n",
    "            #correct += (pred.argmax(1) == y).type(torch.float).sum().item()\n",
    "\n",
    "    test_loss /= num_batches\n",
    "    return test_loss\n",
    "    #correct /= size\n",
    "    #print(f\"Avg loss: {test_loss:>8f} \\n\")"
   ]
  },
  {
   "cell_type": "code",
   "execution_count": 9,
   "id": "d29db647-66ef-4d87-88e5-44bd95f26da7",
   "metadata": {},
   "outputs": [
    {
     "name": "stderr",
     "output_type": "stream",
     "text": [
      "100%|████████████████████████████████████████████████████████████████████████████████| 500/500 [00:58<00:00,  8.57it/s]"
     ]
    },
    {
     "name": "stdout",
     "output_type": "stream",
     "text": [
      "Done!\n"
     ]
    },
    {
     "name": "stderr",
     "output_type": "stream",
     "text": [
      "\n"
     ]
    }
   ],
   "source": [
    "loss_trace = []\n",
    "train_loss_trace = []\n",
    "for t in tqdm(range(epochs)):\n",
    "    #print(f\"Epoch {t+1}\\n-------------------------------\")\n",
    "    current_train_loss = train_loop(train_dataloader, model, loss_fn, optimizer)\n",
    "    current_test_loss = test_loop(test_dataloader, model, loss_fn)\n",
    "    loss_trace.append(current_test_loss)\n",
    "    train_loss_trace.append(current_train_loss.to(\"cpu\").detach().numpy())\n",
    "print(\"Done!\")"
   ]
  },
  {
   "cell_type": "code",
   "execution_count": 10,
   "id": "61e75d72-78e0-4c89-a946-74fb48132529",
   "metadata": {},
   "outputs": [
    {
     "data": {
      "text/plain": [
       "<matplotlib.legend.Legend at 0x1bc82b8d7f0>"
      ]
     },
     "execution_count": 10,
     "metadata": {},
     "output_type": "execute_result"
    },
    {
     "data": {
      "image/png": "[encoded data removed]",
      "text/plain": [
       "<Figure size 864x576 with 1 Axes>"
      ]
     },
     "metadata": {
      "needs_background": "light"
     },
     "output_type": "display_data"
    }
   ],
   "source": [
    "plt.figure(figsize = (12,8))\n",
    "plt.plot(np.array(loss_trace), label =\"test\")\n",
    "plt.plot(np.array(train_loss_trace), label = \"train\")\n",
    "plt.title(\"Learning curve on the test data set.\")\n",
    "plt.legend()"
   ]
  },
  {
   "cell_type": "code",
   "execution_count": 11,
   "id": "7301c30b-cfb7-41cc-9344-7c3a91483564",
   "metadata": {},
   "outputs": [],
   "source": [
    "xi = xi.to(\"cuda:0\")\n",
    "xi_ring = xi_ring.to(\"cuda:0\")\n",
    "weights = model(xi)/(1 - model(xi)+1e-8) *n/m #avoid division by 0\n",
    "weights = weights.to(\"cpu\").detach().numpy()"
   ]
  },
  {
   "cell_type": "code",
   "execution_count": 12,
   "id": "ab39fe77-959f-495c-912a-40b5d7ab8dde",
   "metadata": {},
   "outputs": [
    {
     "data": {
      "text/plain": [
       "<matplotlib.legend.Legend at 0x1bc922a9fa0>"
      ]
     },
     "execution_count": 12,
     "metadata": {},
     "output_type": "execute_result"
    },
    {
     "data": {
      "image/png": "[encoded data removed]",
      "text/plain": [
       "<Figure size 864x576 with 1 Axes>"
      ]
     },
     "metadata": {
      "needs_background": "light"
     },
     "output_type": "display_data"
    }
   ],
   "source": [
    "plt.figure(figsize = (12,8))\n",
    "plt.hist(xi[:,0].to(\"cpu\").detach().numpy(), weights = weights, alpha = 0.5, bins = 30, label =\"re-weighted source\")\n",
    "plt.hist(xi_ring[:,0].to(\"cpu\").detach().numpy(), alpha = 0.5, bins = 30, label =\"target\")\n",
    "plt.hist(xi[:,0].to(\"cpu\").detach().numpy(), alpha = 0.5, bins = 30, label =\"source\")\n",
    "plt.legend()"
   ]
  },
  {
   "cell_type": "code",
   "execution_count": null,
   "id": "68b9e34b-d298-4401-a993-ad363ad05467",
   "metadata": {},
   "outputs": [],
   "source": []
  },
  {
   "cell_type": "code",
   "execution_count": null,
   "id": "b7e92d05-7a3e-4be8-9191-97f7a3ac364e",
   "metadata": {},
   "outputs": [],
   "source": []
  },
  {
   "cell_type": "code",
   "execution_count": null,
   "id": "5d5f758d-faf6-4bdb-a5aa-3e933e1fa452",
   "metadata": {},
   "outputs": [],
   "source": []
  }
 ],
 "metadata": {
  "kernelspec": {
   "display_name": "Python 3",
   "language": "python",
   "name": "python3"
  },
  "language_info": {
   "codemirror_mode": {
    "name": "ipython",
    "version": 3
   },
   "file_extension": ".py",
   "mimetype": "text/x-python",
   "name": "python",
   "nbconvert_exporter": "python",
   "pygments_lexer": "ipython3",
   "version": "3.8.8"
  }
 },
 "nbformat": 4,
 "nbformat_minor": 5
}
