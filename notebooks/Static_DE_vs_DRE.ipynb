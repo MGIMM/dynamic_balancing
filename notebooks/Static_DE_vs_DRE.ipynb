{
 "cells": [
  {
   "cell_type": "code",
   "execution_count": 1,
   "id": "eb9e6151-7e6a-4918-9128-8a3713dbe3f4",
   "metadata": {},
   "outputs": [],
   "source": [
    "import torch\n",
    "import numpy as np\n",
    "import matplotlib.pyplot as plt\n",
    "# from MMDBalancing import MMDBalancing as MMDB\n",
    "# from OptimalTransportBalancing import OptimalTransportBalancing as OTB\n",
    "# from NeuralAdversarialBalancing import NeuralAdversarialBalancing as NAB\n",
    "%matplotlib inline\n",
    "import pandas as pd\n",
    "\n",
    "\n",
    "# utils\n",
    "from utils_balancing import *"
   ]
  },
  {
   "cell_type": "code",
   "execution_count": 2,
   "id": "af4738d6-1842-4146-979b-cbed98943084",
   "metadata": {},
   "outputs": [],
   "source": [
    "n = 5000\n",
    "m = 5000\n",
    "d = 1\n",
    "r = lambda x:(x-3).square() + (x>-2)*(x+3).square() +x.abs()\n",
    "#r = lambda x:x.square()\n",
    "def get_data(n = 500,m = 500, r = r, d = d):\n",
    "    def pi(x):\n",
    "        return torch.sin(x)+ 2*torch.rand(x.shape)-1\n",
    "    def pi_ring(x):\n",
    "        return torch.sin(x)+ 1*torch.rand(x.shape)-0.5\n",
    "    \n",
    "    \n",
    "    xi = torch.normal(mean = -1, std = 2, size = (n,d))\n",
    "    xi_ring = torch.zeros(size = (m,d))\n",
    "    for i in range(m):\n",
    "        if torch.rand(1).item()>0.3:\n",
    "            xi_ring[i,0] = torch.normal(mean = -4, std = 2, size = (1,)).item()\n",
    "        else:\n",
    "            xi_ring[i,0] = torch.normal(mean = 3, std = 0.2, size = (1,)).item()\n",
    "    w = torch.ones(n)\n",
    "    w_ring = torch.ones(m)\n",
    "    \n",
    "    \n",
    "    \n",
    "    \n",
    "    xi_natural = torch.cat((xi, pi(xi)),axis = 1)\n",
    "    xi_ring_natural = torch.cat((xi_ring, pi_ring(xi_ring)), axis = 1)\n",
    "    Z =xi_natural[:,0]+xi_natural[:,1] + torch.rand((n,)) \n",
    "    Z_ring =xi_ring_natural[:,0]+xi_ring_natural[:,1]+torch.rand((m,))\n",
    "    R = r(Z)\n",
    "    return xi_natural,xi_ring_natural,R,Z,Z_ring\n",
    "xi_natural, xi_ring_natural_ref,R,Z,Z_ring = get_data(n = 5000, m = 5000)"
   ]
  },
  {
   "cell_type": "markdown",
   "id": "cfd83d2b-b46e-4eca-a2f1-bc800eba493f",
   "metadata": {},
   "source": [
    "## Viz of State-action measures"
   ]
  },
  {
   "cell_type": "code",
   "execution_count": 3,
   "id": "735d6246-4533-43b1-a6f9-fe7edec04329",
   "metadata": {},
   "outputs": [],
   "source": [
    "def viz(xi_natural):\n",
    "    plt.hist2d(xi_natural[:,0].detach().numpy(), xi_natural[:,1].detach().numpy(),cmap = \"binary\", bins = 30)"
   ]
  },
  {
   "cell_type": "code",
   "execution_count": 4,
   "id": "61b4c99d-d95c-4237-9e3e-6bcfd19f1c57",
   "metadata": {},
   "outputs": [
    {
     "data": {
      "text/plain": [
       "Text(0.5, 1.0, 'Source state-action distribution: xi_natural')"
      ]
     },
     "execution_count": 4,
     "metadata": {},
     "output_type": "execute_result"
    },
    {
     "data": {
      "image/png": "[encoded data removed]",
      "text/plain": [
       "<Figure size 432x288 with 1 Axes>"
      ]
     },
     "metadata": {
      "needs_background": "light"
     },
     "output_type": "display_data"
    }
   ],
   "source": [
    "viz(xi_natural)\n",
    "plt.xlim([-8,4])\n",
    "plt.title(\"Source state-action distribution: xi_natural\")"
   ]
  },
  {
   "cell_type": "code",
   "execution_count": 5,
   "id": "af4c6b03-4dcf-4ef5-93cb-4a22f68b451b",
   "metadata": {},
   "outputs": [
    {
     "data": {
      "text/plain": [
       "Text(0.5, 1.0, 'Target state-action distribution: xi_ring_natural')"
      ]
     },
     "execution_count": 5,
     "metadata": {},
     "output_type": "execute_result"
    },
    {
     "data": {
      "image/png": "[encoded data removed]",
      "text/plain": [
       "<Figure size 432x288 with 1 Axes>"
      ]
     },
     "metadata": {
      "needs_background": "light"
     },
     "output_type": "display_data"
    }
   ],
   "source": [
    "viz(xi_ring_natural_ref)\n",
    "plt.xlim([-8,4])\n",
    "plt.title(\"Target state-action distribution: xi_ring_natural\")"
   ]
  },
  {
   "cell_type": "code",
   "execution_count": 6,
   "id": "202fc5f2-db91-4ccf-ad7f-0ae6ed83281d",
   "metadata": {},
   "outputs": [
    {
     "data": {
      "text/plain": [
       "<matplotlib.legend.Legend at 0x221329e26d0>"
      ]
     },
     "execution_count": 6,
     "metadata": {},
     "output_type": "execute_result"
    },
    {
     "data": {
      "image/png": "[encoded data removed]",
      "text/plain": [
       "<Figure size 432x288 with 1 Axes>"
      ]
     },
     "metadata": {
      "needs_background": "light"
     },
     "output_type": "display_data"
    }
   ],
   "source": [
    "plt.hist(Z.detach().numpy().reshape(len(Z),), bins = 30, alpha = 0.5, label = \"Z\")\n",
    "plt.hist(Z_ring.detach().numpy().reshape(len(Z),), bins = 30, alpha = 0.5, label = \"Z_ring_oracle\")\n",
    "plt.title(\"Underlying state variable Z vs Z_ring\")\n",
    "plt.legend()"
   ]
  },
  {
   "cell_type": "markdown",
   "id": "5134dffc-7ba6-4d52-87c4-0080e46bb9e6",
   "metadata": {},
   "source": [
    "## Reference value"
   ]
  },
  {
   "cell_type": "code",
   "execution_count": 7,
   "id": "76345468-798f-489a-8992-3374f09db1e7",
   "metadata": {},
   "outputs": [
    {
     "name": "stdout",
     "output_type": "stream",
     "text": [
      "tensor(49.0964)\n"
     ]
    }
   ],
   "source": [
    "xi_natural, xi_ring_natural,R,Z,Z_ring = get_data(n = 50000, m = 50000)\n",
    "ref = r(Z_ring).mean()\n",
    "print(ref)"
   ]
  },
  {
   "cell_type": "markdown",
   "id": "14564da1-a4fa-4f91-a36c-d2457bb3d484",
   "metadata": {},
   "source": [
    "### Re-generate data set with $n=m=500$."
   ]
  },
  {
   "cell_type": "code",
   "execution_count": 8,
   "id": "e49ef866-30cb-466e-bef5-faba01db3bd6",
   "metadata": {},
   "outputs": [],
   "source": [
    "n = 500\n",
    "m = 500\n",
    "xi_natural, xi_ring_natural,R,Z,Z_ring = get_data(n = n, m = m, r = r)"
   ]
  },
  {
   "cell_type": "markdown",
   "id": "ea07d8ae-fdd2-4c2d-9097-3c9d00cda1f6",
   "metadata": {},
   "source": [
    "# GIPWE: DE and DRE\n",
    "\n",
    "1. Data splitting (K-folds with K = 3)"
   ]
  },
  {
   "cell_type": "code",
   "execution_count": 9,
   "id": "0cc810b3-9f17-4d52-b36c-e9370917018c",
   "metadata": {},
   "outputs": [],
   "source": [
    "def get_split_ind(n,K = 3):\n",
    "    I_n = torch.arange(n, dtype = float)\n",
    "    \n",
    "    rand_ind_n = torch.multinomial(I_n,len(I_n),replacement = False)\n",
    "    num_folds_n = int(n/K)\n",
    "    Ind = []\n",
    "    for i in range(K):\n",
    "        if (i+1)*num_folds_n <= n:\n",
    "            Ind.append(list(rand_ind_n[i*num_folds_n:(i+1)*num_folds_n].detach().numpy()))\n",
    "        else:\n",
    "            Ind.append(list(rand_ind_n[i*num_folds_n:].detach().numpy()))\n",
    "    \n",
    "    Ind_split = []\n",
    "    for i in range(K):\n",
    "        list_n = []\n",
    "        for j in range(n):\n",
    "            if j >= i*num_folds_n and j < (i+1)*num_folds_n:\n",
    "                pass\n",
    "            else:\n",
    "                list_n.append(rand_ind_n[j].item())\n",
    "            \n",
    "        Ind_split.append(list_n)\n",
    "    return Ind_split,Ind"
   ]
  },
  {
   "cell_type": "code",
   "execution_count": 10,
   "id": "dd1595ba-c9e8-48ef-b7f7-f9d89b67aff4",
   "metadata": {},
   "outputs": [],
   "source": [
    "K = 3\n",
    "Ind_out, Ind_in = get_split_ind(n,K)"
   ]
  },
  {
   "cell_type": "markdown",
   "id": "94d1b35b-dc77-4c3b-962c-555f5d585fbe",
   "metadata": {},
   "source": [
    "2. Get GIPW weights"
   ]
  },
  {
   "cell_type": "code",
   "execution_count": 11,
   "id": "f5eaf3ff-e04c-4b97-b8f4-1c912e5315ce",
   "metadata": {},
   "outputs": [],
   "source": [
    "from sklearn.ensemble import RandomForestRegressor\n",
    "import xgboost as xgb\n",
    "from sklearn.linear_model import LogisticRegression"
   ]
  },
  {
   "cell_type": "code",
   "execution_count": 12,
   "id": "23bfcf98-e702-4918-ac7a-372f3bb655d1",
   "metadata": {},
   "outputs": [
    {
     "name": "stdout",
     "output_type": "stream",
     "text": [
      "XGB:\n",
      "Fold 0:\n",
      "train loss: 0.13692166515513973\n",
      "test loss: 0.16649290168029232\n",
      "Fold 1:\n",
      "train loss: 0.2045988528567467\n",
      "test loss: 0.2029622747522847\n",
      "Fold 2:\n",
      "train loss: 0.13737753769352531\n",
      "test loss: 0.16122431300247572\n",
      "\n",
      "\n",
      "RF:\n",
      "Fold 0:\n",
      "train loss: 0.07185604436207664\n",
      "test loss: 0.14369098009439074\n",
      "Fold 1:\n",
      "train loss: 0.08980558674238688\n",
      "test loss: 0.15376506103949591\n",
      "Fold 2:\n",
      "train loss: 0.08163847043951841\n",
      "test loss: 0.15359285775358578\n",
      "\n",
      "\n",
      "LR:\n",
      "Fold 0:\n",
      "train loss: 0.43373493975903615\n",
      "test loss: 0.4002998500749625\n",
      "Fold 1:\n",
      "train loss: 0.3313253012048193\n",
      "test loss: 0.3613193403298351\n",
      "Fold 2:\n",
      "train loss: 0.4397590361445783\n",
      "test loss: 0.4482758620689655\n"
     ]
    }
   ],
   "source": [
    "XGB = xgb.XGBRegressor(gamma = 5e0)\n",
    "RF = RandomForestRegressor(n_estimators = 20, min_samples_split = 20)\n",
    "LR = LogisticRegression()\n",
    "def get_GIPW_weights(model):\n",
    "    eta = np.zeros(n)\n",
    "    for k in range(K):\n",
    "        print(\"Fold {}:\".format(k))\n",
    "        SGIPW = Shallow_GIPW(xi_natural[Ind_out[k],:], xi_ring_natural)\n",
    "        \n",
    "        SGIPW.train(model,xi = np.array(xi_natural[Ind_in[k],:]),log=True)\n",
    "        eta[Ind_in[k]] = SGIPW.weights*(SGIPW.weights>0)\n",
    "    return eta\n",
    "\n",
    "print(\"XGB:\")\n",
    "eta_XGB = get_GIPW_weights(XGB)\n",
    "print(\"\\n\")\n",
    "print(\"RF:\")\n",
    "eta_RF = get_GIPW_weights(RF)\n",
    "print(\"\\n\")\n",
    "print(\"LR:\")\n",
    "eta_LR = get_GIPW_weights(LR)"
   ]
  },
  {
   "cell_type": "code",
   "execution_count": 13,
   "id": "8c29cda2-2f67-43a8-b56c-692766909865",
   "metadata": {},
   "outputs": [],
   "source": [
    "def Viz_Z(eta):\n",
    "    plt.hist(Z.detach().numpy().reshape(len(Z),),weights=eta, bins = 30, alpha = 0.5, label = \"re-weighted Z\")\n",
    "    plt.hist(Z_ring.detach().numpy().reshape(len(Z),), bins = 30, alpha = 0.5, label = \"Z_ring_oracle\")\n",
    "    plt.title(\"Underlying state variable Z vs Z_ring\")\n",
    "    plt.legend()"
   ]
  },
  {
   "cell_type": "code",
   "execution_count": 14,
   "id": "d64c0bc2-ebeb-4493-9fb1-e2cae72bc732",
   "metadata": {},
   "outputs": [
    {
     "data": {
      "image/png": "[encoded data removed]",
      "text/plain": [
       "<Figure size 432x288 with 1 Axes>"
      ]
     },
     "metadata": {
      "needs_background": "light"
     },
     "output_type": "display_data"
    }
   ],
   "source": [
    "Viz_Z(eta_XGB)"
   ]
  },
  {
   "cell_type": "code",
   "execution_count": 15,
   "id": "d48b619e-1046-42b1-b40d-bfa66a8a390d",
   "metadata": {},
   "outputs": [],
   "source": [
    "def Viz_natural(eta, bins = 30):\n",
    "    fig, (ax1, ax2) = plt.subplots(1, 2, figsize = (9,4), sharey = True)\n",
    "    fig.suptitle('Comparison with oracle state-action distribution')\n",
    "    ax1.hist2d(xi_natural[:,0].detach().numpy(), xi_natural[:,1].detach().numpy(), weights = eta,cmap = \"binary\", bins = bins)\n",
    "    ax2.hist2d(xi_ring_natural_ref[:,0].detach().numpy(), xi_ring_natural_ref[:,1].detach().numpy(),cmap = \"binary\", bins = bins)\n",
    "    ax1.set_xlim([-8, 4])\n",
    "    ax2.set_xlim([-8, 4])\n",
    "    ax1.title.set_text('re-weighted')\n",
    "    ax2.title.set_text('ref')"
   ]
  },
  {
   "cell_type": "code",
   "execution_count": null,
   "id": "0ac51844-5389-41aa-8464-df04f4ec1dca",
   "metadata": {},
   "outputs": [],
   "source": []
  },
  {
   "cell_type": "code",
   "execution_count": 16,
   "id": "4ff7e6cb-e011-44d7-a5bc-0d0814b9fa62",
   "metadata": {},
   "outputs": [
    {
     "data": {
      "image/png": "[encoded data removed]",
      "text/plain": [
       "<Figure size 648x288 with 2 Axes>"
      ]
     },
     "metadata": {
      "needs_background": "light"
     },
     "output_type": "display_data"
    }
   ],
   "source": [
    "Viz_natural(eta_XGB)"
   ]
  },
  {
   "cell_type": "code",
   "execution_count": 17,
   "id": "16a620fd-f1f0-472a-af76-f88f4fa9c133",
   "metadata": {},
   "outputs": [
    {
     "data": {
      "image/png": "[encoded data removed]",
      "text/plain": [
       "<Figure size 648x288 with 2 Axes>"
      ]
     },
     "metadata": {
      "needs_background": "light"
     },
     "output_type": "display_data"
    }
   ],
   "source": [
    "Viz_natural(eta_RF)"
   ]
  },
  {
   "cell_type": "markdown",
   "id": "40a63bf4-4bf7-428b-85d0-411584a721ce",
   "metadata": {},
   "source": [
    "3. Get balancing weights"
   ]
  },
  {
   "cell_type": "code",
   "execution_count": 18,
   "id": "b76e98ef-e46a-43f5-847f-3dd73dc013c4",
   "metadata": {},
   "outputs": [],
   "source": [
    "# OT\n",
    "OTB = OptimalTransportBalancing()\n",
    "eta_OT = OTB.get_weights(xi_natural,xi_ring_natural)\n",
    "eta_OT = eta_OT.detach().numpy()"
   ]
  },
  {
   "cell_type": "code",
   "execution_count": 19,
   "id": "95f9c6f2-109b-4553-99ea-c9b984a24eba",
   "metadata": {},
   "outputs": [
    {
     "data": {
      "image/png": "[encoded data removed]",
      "text/plain": [
       "<Figure size 432x288 with 1 Axes>"
      ]
     },
     "metadata": {
      "needs_background": "light"
     },
     "output_type": "display_data"
    }
   ],
   "source": [
    "Viz_Z(eta_OT)"
   ]
  },
  {
   "cell_type": "code",
   "execution_count": 20,
   "id": "f767e352-efe9-4e62-938e-018f231ee966",
   "metadata": {},
   "outputs": [
    {
     "data": {
      "image/png": "[encoded data removed]",
      "text/plain": [
       "<Figure size 648x288 with 2 Axes>"
      ]
     },
     "metadata": {
      "needs_background": "light"
     },
     "output_type": "display_data"
    }
   ],
   "source": [
    "Viz_natural(eta_OT)"
   ]
  },
  {
   "cell_type": "code",
   "execution_count": 21,
   "id": "bed866dd-cea4-49fb-8e09-cb5ef49e688b",
   "metadata": {},
   "outputs": [],
   "source": [
    "# MMD weights\n",
    "lambda_RKHS = 1e2\n",
    "lambda_l2 = 1e-3\n",
    "MMDB = MMDBalancing(xi_natural,xi_ring_natural,sigma = 5e-1,D = 2000)\n",
    "eta_MMD = MMDB.get_weights(lambda_RKHS = lambda_RKHS, lambda_l2 = lambda_l2)\n",
    "eta_MMD = eta_MMD*(eta_MMD>0)\n",
    "eta_MMD = eta_MMD.to(\"cpu\").detach().numpy()"
   ]
  },
  {
   "cell_type": "code",
   "execution_count": 22,
   "id": "06a93afe-587e-47ba-b1a8-9787d96f749d",
   "metadata": {},
   "outputs": [
    {
     "data": {
      "image/png": "[encoded data removed]",
      "text/plain": [
       "<Figure size 648x288 with 2 Axes>"
      ]
     },
     "metadata": {
      "needs_background": "light"
     },
     "output_type": "display_data"
    }
   ],
   "source": [
    "Viz_natural(eta_MMD)"
   ]
  },
  {
   "cell_type": "code",
   "execution_count": 23,
   "id": "eb3ddc6d-c068-4388-8b2b-e2f28a39e830",
   "metadata": {},
   "outputs": [
    {
     "data": {
      "image/png": "[encoded data removed]",
      "text/plain": [
       "<Figure size 432x288 with 1 Axes>"
      ]
     },
     "metadata": {
      "needs_background": "light"
     },
     "output_type": "display_data"
    }
   ],
   "source": [
    "Viz_Z(eta_MMD)"
   ]
  },
  {
   "cell_type": "code",
   "execution_count": 24,
   "id": "74c7a7b4-d376-44af-9787-eb4b1b6d491e",
   "metadata": {},
   "outputs": [
    {
     "data": {
      "text/plain": [
       "1.1256951523380017"
      ]
     },
     "execution_count": 24,
     "metadata": {},
     "output_type": "execute_result"
    }
   ],
   "source": [
    "eta_MMD.mean()"
   ]
  },
  {
   "cell_type": "code",
   "execution_count": 25,
   "id": "7fb39b28-9857-48e3-99c0-55422c97d059",
   "metadata": {},
   "outputs": [],
   "source": [
    "# Neural Adversarial Balancing\n",
    "class NeuralNetwork(nn.Module):\n",
    "    def __init__(self,input_dim = 1, num_nodes = 32):\n",
    "        super(NeuralNetwork, self).__init__()\n",
    "        self.flatten = nn.Flatten()\n",
    "        self.linear_relu_stack = nn.Sequential(\n",
    "            nn.Linear(input_dim, num_nodes),\n",
    "            nn.ReLU(),\n",
    "            #nn.Dropout(0.3),\n",
    "            #nn.BatchNorm1d(num_nodes), \n",
    "            \n",
    "            nn.Linear(num_nodes, num_nodes),\n",
    "            nn.ReLU(),\n",
    "            nn.Linear(num_nodes, num_nodes),\n",
    "            nn.ReLU(),\n",
    "            #nn.Dropout(0.3),\n",
    "            #nn.BatchNorm1d(num_nodes), \n",
    "            \n",
    "            #nn.Linear(num_nodes, num_nodes),\n",
    "            #nn.ReLU(),\n",
    "            # # #nn.Dropout(0.3),\n",
    "            # # nn.BatchNorm1d(num_nodes), \n",
    "            \n",
    "            nn.Linear(num_nodes, 1),\n",
    "        )\n",
    "\n",
    "    def forward(self, x):\n",
    "        x = self.flatten(x)\n",
    "        target = self.linear_relu_stack(x)\n",
    "        return target"
   ]
  },
  {
   "cell_type": "code",
   "execution_count": 26,
   "id": "4a591af0-7314-4d99-9740-7e3dc409e0f9",
   "metadata": {},
   "outputs": [],
   "source": [
    "AB = Adversarial_Balancing(xi_natural,xi_ring_natural)\n",
    "num_nodes_IPM = 32\n",
    "model_IPM = NeuralNetwork(input_dim = d*2,num_nodes = 2*num_nodes_IPM).to(AB.dev)\n",
    "model_reweighting = NeuralNetwork(input_dim = d*2, num_nodes = num_nodes_IPM).to(AB.dev)\n",
    "learning_rate = 1e-3\n",
    "optimizer_IPM = torch.optim.Adam(model_IPM.parameters(), lr=learning_rate, betas=(0.9, 0.999), eps=1e-08, weight_decay=0, amsgrad=True)\n",
    "optimizer_reweighting = torch.optim.Adam(model_reweighting.parameters(), lr=learning_rate, betas=(0.9, 0.999), eps=1e-08, weight_decay=0, amsgrad=True)"
   ]
  },
  {
   "cell_type": "code",
   "execution_count": 27,
   "id": "2be7719e-41e8-4990-84e2-a08b39af918e",
   "metadata": {},
   "outputs": [
    {
     "name": "stderr",
     "output_type": "stream",
     "text": [
      "100%|██████████████████████████████████████████████████████████████████████████████████| 50/50 [00:00<00:00, 81.89it/s]"
     ]
    },
    {
     "name": "stdout",
     "output_type": "stream",
     "text": [
      "Done!\n"
     ]
    },
    {
     "name": "stderr",
     "output_type": "stream",
     "text": [
      "\n"
     ]
    }
   ],
   "source": [
    "epochs = 50\n",
    "loss_trace = []\n",
    "for t in tqdm(range(epochs)):\n",
    "    #print(f\"Epoch {t+1}\\n-------------------------------\")\n",
    "    current_test_loss = AB.train_loop(model_IPM = model_IPM,\n",
    "                                      model_reweighting = model_reweighting,\n",
    "                                      optimizer_IPM = optimizer_IPM,\n",
    "                                      optimizer_reweighting = optimizer_reweighting,\n",
    "                                      IPM_steps = 1,\n",
    "                                      reweight_steps = 1,\n",
    "                                      lambda_l2_weight = 5e-2,\n",
    "                                      lambda_l2_IPM = 1e-2,\n",
    "                                      lambda_l1_IPM = 1e-2,\n",
    "                                     )\n",
    "    loss_trace.append(current_test_loss.to(\"cpu\").detach().numpy())\n",
    "print(\"Done!\")"
   ]
  },
  {
   "cell_type": "code",
   "execution_count": 28,
   "id": "8aaa8937-141f-424c-bba9-4fe3ed1ba16f",
   "metadata": {},
   "outputs": [
    {
     "data": {
      "text/plain": [
       "Text(0.5, 1.0, 'Gaming curve between the two players')"
      ]
     },
     "execution_count": 28,
     "metadata": {},
     "output_type": "execute_result"
    },
    {
     "data": {
      "image/png": "[encoded data removed]",
      "text/plain": [
       "<Figure size 864x576 with 1 Axes>"
      ]
     },
     "metadata": {
      "needs_background": "light"
     },
     "output_type": "display_data"
    }
   ],
   "source": [
    "plt.figure(figsize = (12,8))\n",
    "plt.plot(np.array(loss_trace))\n",
    "plt.title(\"Gaming curve between the two players\")"
   ]
  },
  {
   "cell_type": "code",
   "execution_count": 29,
   "id": "e915ff00-16da-4907-b1fb-9e250a2a0e90",
   "metadata": {},
   "outputs": [],
   "source": [
    "weights = model_reweighting(xi_natural.to(\"cuda:0\"))\n",
    "#weights /=weights.mean()\n",
    "eta_NAB = weights.to(\"cpu\").detach().numpy().reshape((len(weights,)))"
   ]
  },
  {
   "cell_type": "code",
   "execution_count": 30,
   "id": "05877639-dfb8-49b4-83a6-46e390701f8f",
   "metadata": {},
   "outputs": [
    {
     "data": {
      "text/plain": [
       "1.5898535"
      ]
     },
     "execution_count": 30,
     "metadata": {},
     "output_type": "execute_result"
    }
   ],
   "source": [
    "np.mean(eta_NAB)"
   ]
  },
  {
   "cell_type": "code",
   "execution_count": 31,
   "id": "2d63e529-beed-436c-8a19-2f9556c3aa22",
   "metadata": {},
   "outputs": [
    {
     "data": {
      "image/png": "[encoded data removed]",
      "text/plain": [
       "<Figure size 432x288 with 1 Axes>"
      ]
     },
     "metadata": {
      "needs_background": "light"
     },
     "output_type": "display_data"
    }
   ],
   "source": [
    "Viz_Z(eta_NAB)"
   ]
  },
  {
   "cell_type": "code",
   "execution_count": 32,
   "id": "8db818e3-1e6d-4751-ac92-9971a01c7b3b",
   "metadata": {},
   "outputs": [
    {
     "data": {
      "image/png": "[encoded data removed]",
      "text/plain": [
       "<Figure size 648x288 with 2 Axes>"
      ]
     },
     "metadata": {
      "needs_background": "light"
     },
     "output_type": "display_data"
    }
   ],
   "source": [
    "Viz_natural(eta_NAB)"
   ]
  },
  {
   "cell_type": "markdown",
   "id": "40f3e278-d600-441c-afe8-392adbba60cc",
   "metadata": {},
   "source": [
    "4. Get $r^{\\natural}$ estimation with the same K-fold splitting"
   ]
  },
  {
   "cell_type": "code",
   "execution_count": 33,
   "id": "df658aef-f8aa-4e68-811f-9200f9e9cf7e",
   "metadata": {},
   "outputs": [],
   "source": [
    "from sklearn.linear_model import LinearRegression\n",
    "RF_R = RandomForestRegressor(n_estimators = 20, min_samples_split = 5)\n",
    "#model_r = RF_R\n",
    "model_r = LinearRegression()\n"
   ]
  },
  {
   "cell_type": "code",
   "execution_count": 34,
   "id": "b8e5f1fc-447d-4ecc-aa2e-e40f7cacc1cc",
   "metadata": {},
   "outputs": [],
   "source": [
    "def get_r_estimation(model, K = 3):\n",
    "    r_hat = np.zeros(n)\n",
    "    r_hat_ring = np.zeros(m)\n",
    "    for k in range(K):\n",
    "        SGIPW = Shallow_GIPW(xi_natural[Ind_out[k],:], xi_ring_natural)\n",
    "        model_k = model\n",
    "        model_k.fit(xi_natural[Ind_out[k],:].detach().numpy(), R[Ind_out[k]].detach().numpy())\n",
    "        \n",
    "        r_hat[Ind_in[k]] = model_k.predict(xi_natural[Ind_in[k]].detach().numpy())\n",
    "        r_hat_ring += model_k.predict(xi_ring_natural.detach().numpy())\n",
    "    r_hat_ring /= K\n",
    "        \n",
    "    return r_hat, r_hat_ring"
   ]
  },
  {
   "cell_type": "code",
   "execution_count": 35,
   "id": "38ea36c7-1957-43e0-aa41-9befc85ca921",
   "metadata": {},
   "outputs": [],
   "source": [
    "r_hat,r_hat_ring = get_r_estimation(model_r)"
   ]
  },
  {
   "cell_type": "code",
   "execution_count": 36,
   "id": "180f6f96-8895-4377-86ae-18beff0ccb29",
   "metadata": {},
   "outputs": [
    {
     "data": {
      "text/plain": [
       "32.51861779149374"
      ]
     },
     "execution_count": 36,
     "metadata": {},
     "output_type": "execute_result"
    }
   ],
   "source": [
    "r_hat_ring.mean()"
   ]
  },
  {
   "cell_type": "markdown",
   "id": "59bf7782-edca-41e0-b8a0-80713f96cd10",
   "metadata": {},
   "source": [
    "## Estimators"
   ]
  },
  {
   "cell_type": "code",
   "execution_count": 37,
   "id": "e4277b34-39d2-4195-b48a-f276a7b9ed57",
   "metadata": {},
   "outputs": [],
   "source": [
    "def get_DE(eta, R = R, ref= ref):\n",
    "    try:\n",
    "        eta = torch.from_numpy(eta)\n",
    "    except:\n",
    "        pass\n",
    "    pred = (eta*R).mean().item()\n",
    "    error  = torch.abs(pred - ref).item()\n",
    "    return pred, error \n",
    "def get_DRE(eta,r_hat, r_hat_ring, R = R, ref = ref):\n",
    "    try:\n",
    "        eta = torch.from_numpy(eta)\n",
    "        r_hat = torch.from_numpy(r_hat)\n",
    "    except:\n",
    "        pass\n",
    "    pred = (eta*(R -r_hat)).mean() + r_hat_ring.mean()\n",
    "    error  = torch.abs(pred - ref).item()\n",
    "    return pred.item(), error \n",
    "    \n",
    "    \n",
    "    \n",
    "    "
   ]
  },
  {
   "cell_type": "code",
   "execution_count": 38,
   "id": "a1138602-c39d-4cb3-879b-8034e9257698",
   "metadata": {},
   "outputs": [],
   "source": [
    "#pd.set_option(\"display.precision\", 2)\n",
    "pd.set_option('display.float_format', lambda x: '%.2f' % x)\n",
    "table_bad_reg = pd.DataFrame([[get_DE(eta_OT)[1],get_DRE(eta_OT,r_hat,r_hat_ring)[1]],[get_DE(eta_MMD)[1],get_DRE(eta_MMD,r_hat,r_hat_ring)[1]],\\\n",
    "                          [get_DE(eta_NAB)[1],get_DRE(eta_NAB,r_hat,r_hat_ring)[1]],\\\n",
    "                         [get_DE(eta_RF)[1],get_DRE(eta_RF,r_hat,r_hat_ring)[1]],[get_DE(eta_XGB)[1],get_DRE(eta_XGB,r_hat,r_hat_ring)[1]],\\\n",
    "                          [get_DE(eta_LR)[1],get_DRE(eta_LR,r_hat,r_hat_ring)[1]],[None, torch.abs(r_hat_ring.mean()-ref).item()]],\\\n",
    "                        columns = (\"DE\",\"DRE\"), index = (\"OT\", \"MMD\",\"NAB\", \"GIPW-RF\",\"GIPW-XGB\",\"GIPW-LR\",\"G-computation\"))"
   ]
  },
  {
   "cell_type": "markdown",
   "id": "bee9046c-566a-4598-ab8e-20188d417dd9",
   "metadata": {},
   "source": [
    "## Bad regression model: Linear regression"
   ]
  },
  {
   "cell_type": "code",
   "execution_count": 39,
   "id": "dc67a2a6-6431-40a9-a9d3-40bd848af642",
   "metadata": {},
   "outputs": [
    {
     "data": {
      "text/html": [
       "<div>\n",
       "<style scoped>\n",
       "    .dataframe tbody tr th:only-of-type {\n",
       "        vertical-align: middle;\n",
       "    }\n",
       "\n",
       "    .dataframe tbody tr th {\n",
       "        vertical-align: top;\n",
       "    }\n",
       "\n",
       "    .dataframe thead th {\n",
       "        text-align: right;\n",
       "    }\n",
       "</style>\n",
       "<table border=\"1\" class=\"dataframe\">\n",
       "  <thead>\n",
       "    <tr style=\"text-align: right;\">\n",
       "      <th></th>\n",
       "      <th>DE</th>\n",
       "      <th>DRE</th>\n",
       "    </tr>\n",
       "  </thead>\n",
       "  <tbody>\n",
       "    <tr>\n",
       "      <th>OT</th>\n",
       "      <td>0.13</td>\n",
       "      <td>0.60</td>\n",
       "    </tr>\n",
       "    <tr>\n",
       "      <th>MMD</th>\n",
       "      <td>5.51</td>\n",
       "      <td>2.70</td>\n",
       "    </tr>\n",
       "    <tr>\n",
       "      <th>NAB</th>\n",
       "      <td>5.76</td>\n",
       "      <td>11.07</td>\n",
       "    </tr>\n",
       "    <tr>\n",
       "      <th>GIPW-RF</th>\n",
       "      <td>34136808.00</td>\n",
       "      <td>17689203.84</td>\n",
       "    </tr>\n",
       "    <tr>\n",
       "      <th>GIPW-XGB</th>\n",
       "      <td>20.10</td>\n",
       "      <td>13.69</td>\n",
       "    </tr>\n",
       "    <tr>\n",
       "      <th>GIPW-LR</th>\n",
       "      <td>17.25</td>\n",
       "      <td>15.80</td>\n",
       "    </tr>\n",
       "    <tr>\n",
       "      <th>G-computation</th>\n",
       "      <td>NaN</td>\n",
       "      <td>16.58</td>\n",
       "    </tr>\n",
       "  </tbody>\n",
       "</table>\n",
       "</div>"
      ],
      "text/plain": [
       "                       DE         DRE\n",
       "OT                   0.13        0.60\n",
       "MMD                  5.51        2.70\n",
       "NAB                  5.76       11.07\n",
       "GIPW-RF       34136808.00 17689203.84\n",
       "GIPW-XGB            20.10       13.69\n",
       "GIPW-LR             17.25       15.80\n",
       "G-computation         NaN       16.58"
      ]
     },
     "execution_count": 39,
     "metadata": {},
     "output_type": "execute_result"
    }
   ],
   "source": [
    "table_bad_reg"
   ]
  },
  {
   "cell_type": "code",
   "execution_count": null,
   "id": "cdcb748c-7adc-46ad-b116-35d0c9b7b822",
   "metadata": {},
   "outputs": [],
   "source": []
  },
  {
   "cell_type": "markdown",
   "id": "1a2c4a1d-b176-4bb0-a60a-63db43dd4023",
   "metadata": {},
   "source": [
    "## Good regression model: XGBoosting"
   ]
  },
  {
   "cell_type": "code",
   "execution_count": 40,
   "id": "ffcd72df-cda2-486e-8e03-c2f09ddc0087",
   "metadata": {},
   "outputs": [],
   "source": [
    "XGB_R = xgb.XGBRegressor(n_estimators = 20, gamma = 1e-0)\n",
    "model_r = XGB_R\n",
    "r_hat,r_hat_ring = get_r_estimation(model_r)"
   ]
  },
  {
   "cell_type": "code",
   "execution_count": 41,
   "id": "169ca56a-eca5-4def-99a6-12436b3d49c4",
   "metadata": {},
   "outputs": [],
   "source": [
    "pd.set_option(\"display.precision\", 2)\n",
    "table_good_reg = pd.DataFrame([[get_DE(eta_OT)[1],get_DRE(eta_OT,r_hat,r_hat_ring)[1]],[get_DE(eta_MMD)[1],get_DRE(eta_MMD,r_hat,r_hat_ring)[1]],\\\n",
    "                          [get_DE(eta_NAB)[1],get_DRE(eta_NAB,r_hat,r_hat_ring)[1]],\\\n",
    "                         [get_DE(eta_RF)[1],get_DRE(eta_RF,r_hat,r_hat_ring)[1]],[get_DE(eta_XGB)[1],get_DRE(eta_XGB,r_hat,r_hat_ring)[1]],\\\n",
    "                          [get_DE(eta_LR)[1],get_DRE(eta_LR,r_hat,r_hat_ring)[1]],[None, torch.abs(r_hat_ring.mean()-ref).item()]],\\\n",
    "                        columns = (\"DE\",\"DRE\"), index = (\"OT\", \"MMD\",\"NAB\", \"GIPW-RF\",\"GIPW-XGB\",\"GIPW-LR\",\"G-computation\"))\n"
   ]
  },
  {
   "cell_type": "code",
   "execution_count": 42,
   "id": "97e212a4-27bf-4be6-a580-449d6c71a2e5",
   "metadata": {},
   "outputs": [
    {
     "data": {
      "text/html": [
       "<div>\n",
       "<style scoped>\n",
       "    .dataframe tbody tr th:only-of-type {\n",
       "        vertical-align: middle;\n",
       "    }\n",
       "\n",
       "    .dataframe tbody tr th {\n",
       "        vertical-align: top;\n",
       "    }\n",
       "\n",
       "    .dataframe thead th {\n",
       "        text-align: right;\n",
       "    }\n",
       "</style>\n",
       "<table border=\"1\" class=\"dataframe\">\n",
       "  <thead>\n",
       "    <tr style=\"text-align: right;\">\n",
       "      <th></th>\n",
       "      <th>DE</th>\n",
       "      <th>DRE</th>\n",
       "    </tr>\n",
       "  </thead>\n",
       "  <tbody>\n",
       "    <tr>\n",
       "      <th>OT</th>\n",
       "      <td>0.13</td>\n",
       "      <td>2.87</td>\n",
       "    </tr>\n",
       "    <tr>\n",
       "      <th>MMD</th>\n",
       "      <td>5.51</td>\n",
       "      <td>1.60</td>\n",
       "    </tr>\n",
       "    <tr>\n",
       "      <th>NAB</th>\n",
       "      <td>5.76</td>\n",
       "      <td>1.71</td>\n",
       "    </tr>\n",
       "    <tr>\n",
       "      <th>GIPW-RF</th>\n",
       "      <td>34136808.00</td>\n",
       "      <td>2951371.68</td>\n",
       "    </tr>\n",
       "    <tr>\n",
       "      <th>GIPW-XGB</th>\n",
       "      <td>20.10</td>\n",
       "      <td>1.24</td>\n",
       "    </tr>\n",
       "    <tr>\n",
       "      <th>GIPW-LR</th>\n",
       "      <td>17.25</td>\n",
       "      <td>0.94</td>\n",
       "    </tr>\n",
       "    <tr>\n",
       "      <th>G-computation</th>\n",
       "      <td>NaN</td>\n",
       "      <td>0.89</td>\n",
       "    </tr>\n",
       "  </tbody>\n",
       "</table>\n",
       "</div>"
      ],
      "text/plain": [
       "                       DE        DRE\n",
       "OT                   0.13       2.87\n",
       "MMD                  5.51       1.60\n",
       "NAB                  5.76       1.71\n",
       "GIPW-RF       34136808.00 2951371.68\n",
       "GIPW-XGB            20.10       1.24\n",
       "GIPW-LR             17.25       0.94\n",
       "G-computation         NaN       0.89"
      ]
     },
     "execution_count": 42,
     "metadata": {},
     "output_type": "execute_result"
    }
   ],
   "source": [
    "table_good_reg"
   ]
  },
  {
   "cell_type": "markdown",
   "id": "79af6628-48a5-458a-af5e-c8e8ca67d5de",
   "metadata": {},
   "source": [
    "# 100 independe simulations"
   ]
  },
  {
   "cell_type": "code",
   "execution_count": 43,
   "id": "1ea5a036-c643-4bc5-a69e-62f6741f4f94",
   "metadata": {},
   "outputs": [],
   "source": [
    "from static_simulation import static_simulation"
   ]
  },
  {
   "cell_type": "code",
   "execution_count": 58,
   "id": "b169cb25-f408-441b-915a-c3c9ab232159",
   "metadata": {},
   "outputs": [],
   "source": [
    "# results_bad = np.zeros((100,7,2))\n",
    "# results_good = np.zeros((100,7,2))\n",
    "# for i_sim in tqdm(range(100)):\n",
    "#     table_bad, table_good = static_simulation()\n",
    "#     results_bad[i_sim] = table_bad.to_numpy()\n",
    "#     results_good[i_sim] = table_good.to_numpy()\n",
    "# \n",
    "# ## time spent:  19:05<00:00, 11.46s/it\n",
    "# \n",
    "# final_results_bad = [[\"None\" for j in range(2)]for i in range(7)]\n",
    "# final_results_good = [[\"None\" for j in range(2)]for i in range(7)]\n",
    "# \n",
    "# clip = lambda x: '%.2f' % x\n",
    "# \n",
    "# for i in range(7):\n",
    "#     for j in range(2):\n",
    "#         list_temp = []\n",
    "#         for i_sim in range(100):\n",
    "#             list_temp.append(results_bad[i_sim,i,j])\n",
    "#         mean = np.mean(list_temp)\n",
    "#         sd = np.std(list_temp)\n",
    "#         \n",
    "#         mean = clip(mean)\n",
    "#         sd = clip(sd)\n",
    "#         \n",
    "#         result = str(mean)+u\"\\u00B1\"+str(sd)\n",
    "#         final_results_bad[i][j] = result\n",
    "#         \n",
    "#         list_temp = []\n",
    "#         for i_sim in range(100):\n",
    "#             list_temp.append(results_good[i_sim,i,j])\n",
    "#         mean = np.mean(list_temp)\n",
    "#         sd = np.std(list_temp)\n",
    "#         \n",
    "#         mean = clip(mean)\n",
    "#         sd = clip(sd)\n",
    "#         \n",
    "#         result = str(mean)+u\"\\u00B1\"+str(sd)\n",
    "#         final_results_good[i][j] = result\n",
    "#         \n",
    "# \n",
    "# table_good_final = pd.DataFrame(final_results_good,\n",
    "#                         columns = (\"DE\",\"DRE\"), index = (\"OT\", \"MMD\",\"NAB\", \"GIPW-RF\",\"GIPW-XGB\",\"GIPW-LR\",\"G-computation\"))\n",
    "# \n",
    "# table_bad_final = pd.DataFrame(final_results_bad,\n",
    "#                         columns = (\"DE\",\"DRE\"), index = (\"OT\", \"MMD\",\"NAB\", \"GIPW-RF\",\"GIPW-XGB\",\"GIPW-LR\",\"G-computation\"))\n",
    "# \n",
    "# "
   ]
  },
  {
   "cell_type": "code",
   "execution_count": 59,
   "id": "343a3605-ecac-4337-8741-406883865f81",
   "metadata": {},
   "outputs": [],
   "source": [
    "#table_bad_final.to_csv(\"static_table_bad.csv\")\n",
    "#table_good_final.to_csv(\"static_table_good.csv\")"
   ]
  },
  {
   "cell_type": "code",
   "execution_count": 60,
   "id": "303e94fe-ff53-46ee-9cc2-ba6c67c1fefe",
   "metadata": {},
   "outputs": [],
   "source": [
    "#table_bad_final"
   ]
  },
  {
   "cell_type": "code",
   "execution_count": 61,
   "id": "af4cf99b-a1dc-45b6-af3f-b5ea921e53d4",
   "metadata": {},
   "outputs": [],
   "source": [
    "#table_good_final"
   ]
  },
  {
   "cell_type": "code",
   "execution_count": 55,
   "id": "edc94fe9-5830-4e11-85ab-ba9fce5d741b",
   "metadata": {},
   "outputs": [],
   "source": [
    "table_bad_final_read = pd.read_csv(\"static_table_bad.csv\",index_col = 0)\n",
    "table_good_final_read = pd.read_csv(\"static_table_good.csv\",index_col = 0)"
   ]
  },
  {
   "cell_type": "code",
   "execution_count": 56,
   "id": "c52ea590-ecaf-4434-b8c2-2ad0863a51aa",
   "metadata": {},
   "outputs": [
    {
     "data": {
      "text/html": [
       "<div>\n",
       "<style scoped>\n",
       "    .dataframe tbody tr th:only-of-type {\n",
       "        vertical-align: middle;\n",
       "    }\n",
       "\n",
       "    .dataframe tbody tr th {\n",
       "        vertical-align: top;\n",
       "    }\n",
       "\n",
       "    .dataframe thead th {\n",
       "        text-align: right;\n",
       "    }\n",
       "</style>\n",
       "<table border=\"1\" class=\"dataframe\">\n",
       "  <thead>\n",
       "    <tr style=\"text-align: right;\">\n",
       "      <th></th>\n",
       "      <th>DE</th>\n",
       "      <th>DRE</th>\n",
       "    </tr>\n",
       "  </thead>\n",
       "  <tbody>\n",
       "    <tr>\n",
       "      <th>OT</th>\n",
       "      <td>2.06±1.60</td>\n",
       "      <td>1.94±1.60</td>\n",
       "    </tr>\n",
       "    <tr>\n",
       "      <th>MMD</th>\n",
       "      <td>2.57±1.78</td>\n",
       "      <td>1.92±1.49</td>\n",
       "    </tr>\n",
       "    <tr>\n",
       "      <th>NAB</th>\n",
       "      <td>8.64±6.92</td>\n",
       "      <td>15.98±0.76</td>\n",
       "    </tr>\n",
       "    <tr>\n",
       "      <th>GIPW-RF</th>\n",
       "      <td>40340046.98±40816418.79</td>\n",
       "      <td>15289431.04±16883824.59</td>\n",
       "    </tr>\n",
       "    <tr>\n",
       "      <th>GIPW-XGB</th>\n",
       "      <td>21.26±2.54</td>\n",
       "      <td>13.99±1.08</td>\n",
       "    </tr>\n",
       "    <tr>\n",
       "      <th>GIPW-LR</th>\n",
       "      <td>15.16±3.22</td>\n",
       "      <td>15.78±0.85</td>\n",
       "    </tr>\n",
       "    <tr>\n",
       "      <th>G-computation</th>\n",
       "      <td>nan±nan</td>\n",
       "      <td>16.24±0.74</td>\n",
       "    </tr>\n",
       "  </tbody>\n",
       "</table>\n",
       "</div>"
      ],
      "text/plain": [
       "                                    DE                      DRE\n",
       "OT                           2.06±1.60                1.94±1.60\n",
       "MMD                          2.57±1.78                1.92±1.49\n",
       "NAB                          8.64±6.92               15.98±0.76\n",
       "GIPW-RF        40340046.98±40816418.79  15289431.04±16883824.59\n",
       "GIPW-XGB                    21.26±2.54               13.99±1.08\n",
       "GIPW-LR                     15.16±3.22               15.78±0.85\n",
       "G-computation                  nan±nan               16.24±0.74"
      ]
     },
     "execution_count": 56,
     "metadata": {},
     "output_type": "execute_result"
    }
   ],
   "source": [
    "table_bad_final_read"
   ]
  },
  {
   "cell_type": "code",
   "execution_count": 57,
   "id": "244d0d7f-ad94-418e-8576-171e77d8e9e0",
   "metadata": {},
   "outputs": [
    {
     "data": {
      "text/html": [
       "<div>\n",
       "<style scoped>\n",
       "    .dataframe tbody tr th:only-of-type {\n",
       "        vertical-align: middle;\n",
       "    }\n",
       "\n",
       "    .dataframe tbody tr th {\n",
       "        vertical-align: top;\n",
       "    }\n",
       "\n",
       "    .dataframe thead th {\n",
       "        text-align: right;\n",
       "    }\n",
       "</style>\n",
       "<table border=\"1\" class=\"dataframe\">\n",
       "  <thead>\n",
       "    <tr style=\"text-align: right;\">\n",
       "      <th></th>\n",
       "      <th>DE</th>\n",
       "      <th>DRE</th>\n",
       "    </tr>\n",
       "  </thead>\n",
       "  <tbody>\n",
       "    <tr>\n",
       "      <th>OT</th>\n",
       "      <td>2.06±1.60</td>\n",
       "      <td>2.14±1.82</td>\n",
       "    </tr>\n",
       "    <tr>\n",
       "      <th>MMD</th>\n",
       "      <td>2.57±1.78</td>\n",
       "      <td>2.00±1.69</td>\n",
       "    </tr>\n",
       "    <tr>\n",
       "      <th>NAB</th>\n",
       "      <td>8.64±6.92</td>\n",
       "      <td>2.17±1.59</td>\n",
       "    </tr>\n",
       "    <tr>\n",
       "      <th>GIPW-RF</th>\n",
       "      <td>40340046.98±40816418.79</td>\n",
       "      <td>2836504.76±3657214.00</td>\n",
       "    </tr>\n",
       "    <tr>\n",
       "      <th>GIPW-XGB</th>\n",
       "      <td>21.26±2.54</td>\n",
       "      <td>2.26±1.63</td>\n",
       "    </tr>\n",
       "    <tr>\n",
       "      <th>GIPW-LR</th>\n",
       "      <td>15.16±3.22</td>\n",
       "      <td>2.35±1.67</td>\n",
       "    </tr>\n",
       "    <tr>\n",
       "      <th>G-computation</th>\n",
       "      <td>nan±nan</td>\n",
       "      <td>2.46±1.71</td>\n",
       "    </tr>\n",
       "  </tbody>\n",
       "</table>\n",
       "</div>"
      ],
      "text/plain": [
       "                                    DE                    DRE\n",
       "OT                           2.06±1.60              2.14±1.82\n",
       "MMD                          2.57±1.78              2.00±1.69\n",
       "NAB                          8.64±6.92              2.17±1.59\n",
       "GIPW-RF        40340046.98±40816418.79  2836504.76±3657214.00\n",
       "GIPW-XGB                    21.26±2.54              2.26±1.63\n",
       "GIPW-LR                     15.16±3.22              2.35±1.67\n",
       "G-computation                  nan±nan              2.46±1.71"
      ]
     },
     "execution_count": 57,
     "metadata": {},
     "output_type": "execute_result"
    }
   ],
   "source": [
    "table_good_final_read"
   ]
  },
  {
   "cell_type": "code",
   "execution_count": null,
   "id": "8fd8081a-de3e-47f0-8a8a-0aeda86dbb9a",
   "metadata": {},
   "outputs": [],
   "source": []
  },
  {
   "cell_type": "code",
   "execution_count": null,
   "id": "0f0ae932-4e97-4e73-ad62-51d0438ebfef",
   "metadata": {},
   "outputs": [],
   "source": []
  },
  {
   "cell_type": "code",
   "execution_count": null,
   "id": "da9f4be2-0e42-49e5-8833-991a15ab073b",
   "metadata": {},
   "outputs": [],
   "source": []
  },
  {
   "cell_type": "code",
   "execution_count": null,
   "id": "36992e27-c174-4108-b310-951d3dfc2c01",
   "metadata": {},
   "outputs": [],
   "source": []
  },
  {
   "cell_type": "code",
   "execution_count": null,
   "id": "6f6c1abb-1160-419e-9ac9-17aa9717283b",
   "metadata": {},
   "outputs": [],
   "source": []
  },
  {
   "cell_type": "code",
   "execution_count": null,
   "id": "1a3dfb2c-1288-448e-ab67-839bf06bf39a",
   "metadata": {},
   "outputs": [],
   "source": []
  },
  {
   "cell_type": "code",
   "execution_count": null,
   "id": "0f841dfd-3fda-4513-95b7-407efcc0041d",
   "metadata": {},
   "outputs": [],
   "source": []
  }
 ],
 "metadata": {
  "kernelspec": {
   "display_name": "Python 3",
   "language": "python",
   "name": "python3"
  },
  "language_info": {
   "codemirror_mode": {
    "name": "ipython",
    "version": 3
   },
   "file_extension": ".py",
   "mimetype": "text/x-python",
   "name": "python",
   "nbconvert_exporter": "python",
   "pygments_lexer": "ipython3",
   "version": "3.8.8"
  }
 },
 "nbformat": 4,
 "nbformat_minor": 5
}
